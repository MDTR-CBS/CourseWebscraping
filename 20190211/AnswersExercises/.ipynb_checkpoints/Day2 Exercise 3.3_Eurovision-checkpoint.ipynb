{
 "cells": [
  {
   "cell_type": "code",
   "execution_count": 1,
   "metadata": {
    "collapsed": true
   },
   "outputs": [],
   "source": [
    "import re\n",
    "import urllib\n",
    "import time\n",
    "\n",
    "import requests\n",
    "from bs4 import BeautifulSoup"
   ]
  },
  {
   "cell_type": "markdown",
   "metadata": {},
   "source": [
    "This convenience function finds the text directly inside a BeautifulSoup tag, ignoring any text in descendant tags. It also cleans up the text by stripping leading and trailing whitespace. Such whitespace  is irrelevant in HTML."
   ]
  },
  {
   "cell_type": "code",
   "execution_count": 2,
   "metadata": {
    "collapsed": true
   },
   "outputs": [],
   "source": [
    "def find_text_only(tag):\n",
    "\n",
    "    text = tag.find(text=True, recursive=False)\n",
    "    return text.strip()"
   ]
  },
  {
   "cell_type": "markdown",
   "metadata": {},
   "source": [
    "First part of the exercise: find country and song name for all songs in the final of the 2018 Eurovision song contest. This data can be found in [https://en.wikipedia.org/wiki/Eurovision_Song_Contest_2018](https://en.wikipedia.org/wiki/Eurovision_Song_Contest_2018). "
   ]
  },
  {
   "cell_type": "code",
   "execution_count": 3,
   "metadata": {},
   "outputs": [
    {
     "name": "stdout",
     "output_type": "stream",
     "text": [
      "https://en.wikipedia.org/wiki/Eurovision_Song_Contest_2018 200\n"
     ]
    }
   ],
   "source": [
    "url = \"https://en.wikipedia.org/wiki/Eurovision_Song_Contest_2018\"\n",
    "page = requests.get(url)\n",
    "print(url, page.status_code) # Always a good idea to include some logging information"
   ]
  },
  {
   "cell_type": "markdown",
   "metadata": {},
   "source": [
    "This page contains a table with all the data in the section \"Participating Countries\", in the \"Final\" subsection. This subsection can easily be found by its id, which is also \"Final\"; the table is contained in the first &lt;table&gt; HTML element after that."
   ]
  },
  {
   "cell_type": "code",
   "execution_count": 4,
   "metadata": {
    "collapsed": true
   },
   "outputs": [],
   "source": [
    "soup = BeautifulSoup(page.text, \"lxml\")\n",
    "\n",
    "final = soup.find(id = \"Final\")\n",
    "table = final.findNext(\"table\")"
   ]
  },
  {
   "cell_type": "markdown",
   "metadata": {},
   "source": [
    "Each column in this table contains a separate variable, while each row in the table represents one song. The first row contains column headers, with citations for each header. We process this table one row at a time, starting with the row with column headers. We extract all column headers, and make sure to get rid of the unwanted citations."
   ]
  },
  {
   "cell_type": "code",
   "execution_count": 5,
   "metadata": {},
   "outputs": [
    {
     "name": "stdout",
     "output_type": "stream",
     "text": [
      "['Draw', 'Country', 'Artist', 'Song', 'Language(s)', 'Place', 'Points']\n"
     ]
    }
   ],
   "source": [
    "# Each table row is contained in a <tr> tag.\n",
    "rows = table.find_all(\"tr\")\n",
    "\n",
    "# The column headers are inside the first table row, inside <th> tags.\n",
    "firstrow_cells = rows[0].find_all(\"th\")\n",
    "headers = [ find_text_only(cell) for cell in firstrow_cells ]\n",
    "print(headers)"
   ]
  },
  {
   "cell_type": "markdown",
   "metadata": {},
   "source": [
    "Now we extract the variables we want from the remaining rows in the table. For each row, we loop simultaneously through the column headers and the cells in the row, so that we know which variable is contained within each cell. Each cell is contained in a &lt;td&gt; tag.\n",
    "\n",
    "[as a sidenote: I only got the idea of looping through column headers and table cells simultaneously, using zip(), several days after the course had ended. My original solution was quite a bit more complex and therefore much more time-consuming to get right]\n",
    "\n",
    "The question only asked for countries and song names, but we also extract links to individual song pages and the number of points per song, in preparation for the second part of the exercise."
   ]
  },
  {
   "cell_type": "code",
   "execution_count": 6,
   "metadata": {},
   "outputs": [
    {
     "name": "stdout",
     "output_type": "stream",
     "text": [
      "{'country': 'Ukraine', 'songname': 'Under the Ladder', 'link': 'https://en.wikipedia.org/wiki/Under_the_Ladder', 'points': 130}\n",
      "{'country': 'Spain', 'songname': 'Tu canción', 'link': 'https://en.wikipedia.org/wiki/Tu_canci%C3%B3n', 'points': 61}\n",
      "{'country': 'Slovenia', 'songname': 'Hvala, ne!', 'link': 'https://en.wikipedia.org/wiki/Hvala,_ne!', 'points': 64}\n",
      "{'country': 'Lithuania', 'songname': \"When We're Old\", 'link': 'https://en.wikipedia.org/wiki/When_We%27re_Old', 'points': 181}\n",
      "{'country': 'Austria', 'songname': 'Nobody but You', 'link': 'https://en.wikipedia.org/wiki/Nobody_but_You_(Ces%C3%A1r_Sampson_song)', 'points': 342}\n",
      "{'country': 'Estonia', 'songname': 'La forza', 'link': 'https://en.wikipedia.org/wiki/La_forza_(song)', 'points': 245}\n",
      "{'country': 'Norway', 'songname': \"That's How You Write a Song\", 'link': 'https://en.wikipedia.org/wiki/That%27s_How_You_Write_a_Song', 'points': 144}\n",
      "{'country': 'Portugal', 'songname': 'O jardim', 'link': 'https://en.wikipedia.org/wiki/O_jardim', 'points': 39}\n",
      "{'country': 'United Kingdom', 'songname': 'Storm', 'link': 'https://en.wikipedia.org/wiki/Storm_(SuRie_song)', 'points': 48}\n",
      "{'country': 'Serbia', 'songname': 'Nova deca', 'link': 'https://en.wikipedia.org/wiki/Nova_deca', 'points': 113}\n",
      "{'country': 'Germany', 'songname': 'You Let Me Walk Alone', 'link': 'https://en.wikipedia.org/wiki/You_Let_Me_Walk_Alone', 'points': 340}\n",
      "{'country': 'Albania', 'songname': 'Mall', 'link': 'https://en.wikipedia.org/wiki/Mall_(song)', 'points': 184}\n",
      "{'country': 'France', 'songname': 'Mercy', 'link': 'https://en.wikipedia.org/wiki/Mercy_(Madame_Monsieur_song)', 'points': 173}\n",
      "{'country': 'Czech Republic', 'songname': 'Lie to Me', 'link': 'https://en.wikipedia.org/wiki/Lie_to_Me_(Mikolas_Josef_song)', 'points': 281}\n",
      "{'country': 'Denmark', 'songname': 'Higher Ground', 'link': 'https://en.wikipedia.org/wiki/Higher_Ground_(Rasmussen_song)', 'points': 226}\n",
      "{'country': 'Australia', 'songname': 'We Got Love', 'link': 'https://en.wikipedia.org/wiki/We_Got_Love_(Jessica_Mauboy_song)', 'points': 99}\n",
      "{'country': 'Finland', 'songname': 'Monsters', 'link': 'https://en.wikipedia.org/wiki/Monsters_(Saara_Aalto_song)', 'points': 46}\n",
      "{'country': 'Bulgaria', 'songname': 'Bones', 'link': 'https://en.wikipedia.org/wiki/Bones_(Equinox_song)', 'points': 166}\n",
      "{'country': 'Moldova', 'songname': 'My Lucky Day', 'link': 'https://en.wikipedia.org/wiki/My_Lucky_Day_(DoReDoS_song)', 'points': 209}\n",
      "{'country': 'Sweden', 'songname': 'Dance You Off', 'link': 'https://en.wikipedia.org/wiki/Dance_You_Off', 'points': 274}\n",
      "{'country': 'Hungary', 'songname': 'Viszlát nyár', 'link': 'https://en.wikipedia.org/wiki/Viszl%C3%A1t_ny%C3%A1r', 'points': 93}\n",
      "{'country': 'Israel', 'songname': 'Toy', 'link': 'https://en.wikipedia.org/wiki/Toy_(song)', 'points': 529}\n",
      "{'country': 'Netherlands', 'songname': \"Outlaw in 'Em\", 'link': 'https://en.wikipedia.org/wiki/Outlaw_in_%27Em', 'points': 121}\n",
      "{'country': 'Ireland', 'songname': 'Together', 'link': 'https://en.wikipedia.org/wiki/Together_(Ryan_O%27Shaughnessy_song)', 'points': 136}\n",
      "{'country': 'Cyprus', 'songname': 'Fuego', 'link': 'https://en.wikipedia.org/wiki/Fuego_(Eleni_Foureira_song)', 'points': 436}\n",
      "{'country': 'Italy', 'songname': 'Non mi avete fatto niente', 'link': 'https://en.wikipedia.org/wiki/Non_mi_avete_fatto_niente', 'points': 308}\n"
     ]
    }
   ],
   "source": [
    "results = []\n",
    "for row in rows[1:]:\n",
    "    row_result = {}\n",
    "    row_cells = row.find_all(\"td\")\n",
    "    for header, cell_content in zip(headers, row_cells):\n",
    "        if header == \"Country\":\n",
    "            # We only store the text within the a tag inside the cell,\n",
    "            # because the cell also contains the country flag, which we do not want.\n",
    "            row_result[\"country\"] = cell_content.a.text\n",
    "        elif header == \"Song\":\n",
    "            # Again, we only store the text within the a tag inside the cell,\n",
    "            # this time because the song titles are between quotes, and we do not want those.\n",
    "            row_result[\"songname\"] = cell_content.a.text\n",
    "            # We also store the url to the song page, for future reference.\n",
    "            # We use urllib.parse.urljoin to convert these into absolute urls.\n",
    "            # This is more robust than simply adding \"www.wikipedia.org\" in front.\n",
    "            row_result[\"link\"] = urllib.parse.urljoin(url, cell_content.a[\"href\"])\n",
    "        elif header == \"Points\":\n",
    "            # We only store the text within the cell itself, not its children.\n",
    "            # The reason here is that these cells also contain a hidden tag \n",
    "            # with a sort key, and we do not want those.\n",
    "            # We also convert the result to integer, as we need it as such later.\n",
    "            row_result[\"points\"] = int(find_text_only(cell_content))\n",
    "    results.append(row_result)\n",
    "    print(row_result)"
   ]
  },
  {
   "cell_type": "markdown",
   "metadata": {},
   "source": [
    "Second part of the exercise: gather release dates, song lengths and songwriters from the\n",
    "individual song pages, for those songs that got at least 100 points.\n",
    "\n",
    "The individual song pages all contain a wikipedia infobox in the sidebar on the right with the required data. The HTML structure of this infobox is the same for all song pages, which makes scraping the required data much simpler. The table itself has the class \"vevent\". Each row is contained in a &lt;tr&gt; tag, and each row contains 1 variable. Within a row, the variable name is contained in a &lt;th&gt; tag, while its value is contained in a &lt;td&gt; tag."
   ]
  },
  {
   "cell_type": "code",
   "execution_count": 7,
   "metadata": {},
   "outputs": [
    {
     "name": "stdout",
     "output_type": "stream",
     "text": [
      "https://en.wikipedia.org/wiki/Under_the_Ladder 200\n",
      "https://en.wikipedia.org/wiki/When_We%27re_Old 200\n",
      "https://en.wikipedia.org/wiki/Nobody_but_You_(Ces%C3%A1r_Sampson_song) 200\n",
      "https://en.wikipedia.org/wiki/La_forza_(song) 200\n",
      "https://en.wikipedia.org/wiki/That%27s_How_You_Write_a_Song 200\n",
      "https://en.wikipedia.org/wiki/Nova_deca 200\n",
      "https://en.wikipedia.org/wiki/You_Let_Me_Walk_Alone 200\n",
      "https://en.wikipedia.org/wiki/Mall_(song) 200\n",
      "https://en.wikipedia.org/wiki/Mercy_(Madame_Monsieur_song) 200\n",
      "https://en.wikipedia.org/wiki/Lie_to_Me_(Mikolas_Josef_song) 200\n",
      "https://en.wikipedia.org/wiki/Higher_Ground_(Rasmussen_song) 200\n",
      "https://en.wikipedia.org/wiki/Bones_(Equinox_song) 200\n",
      "https://en.wikipedia.org/wiki/My_Lucky_Day_(DoReDoS_song) 200\n",
      "https://en.wikipedia.org/wiki/Dance_You_Off 200\n",
      "https://en.wikipedia.org/wiki/Toy_(song) 200\n",
      "https://en.wikipedia.org/wiki/Outlaw_in_%27Em 200\n",
      "https://en.wikipedia.org/wiki/Together_(Ryan_O%27Shaughnessy_song) 200\n",
      "https://en.wikipedia.org/wiki/Fuego_(Eleni_Foureira_song) 200\n",
      "https://en.wikipedia.org/wiki/Non_mi_avete_fatto_niente 200\n"
     ]
    }
   ],
   "source": [
    "# Second part of the exercise: gather release dates, song lengths and songwriters from the\n",
    "# individual song pages, but only for those songs that got at least 100 points\n",
    "for row_result in results:\n",
    "    if row_result[\"points\"] < 100: \n",
    "        continue\n",
    "\n",
    "    # We visist the song's page. We sleep before the request instead of after the request:\n",
    "    # On the one hand, this inserts a pause after the previous page read, and on the other\n",
    "    # hand, this avoids having to wait an extra second after the final request.\n",
    "    time.sleep(1)\n",
    "    page = requests.get(row_result[\"link\"])\n",
    "    print(row_result[\"link\"], page.status_code) # As before, we print a log message\n",
    "    soup = BeautifulSoup(page.text, \"lxml\")\n",
    "\n",
    "    # The data we want is in the table in the sidebar on the right. This table has\n",
    "    # class name \"vevent\".\n",
    "    detail_table = soup.find(\"table\", {\"class\": \"vevent\"})\n",
    "\n",
    "    # This table has a separate variable in each row, with one <th> tag containing\n",
    "    # the variable name, and one <td> tag containing its value.\n",
    "    # We therefore simply loop over all rows\n",
    "    rows = detail_table.find_all(\"tr\")\n",
    "    for row in rows:\n",
    "        label_cell = row.th\n",
    "        value_cell = row.td\n",
    "        if label_cell is not None and value_cell is not None:\n",
    "            label = label_cell.text\n",
    "            if label == \"Released\":\n",
    "                # We use find_text_only() here, because it is more robust\n",
    "                # than simply copying all text. Also, for some songs, the release\n",
    "                # date is accompanied by a wikipedia citation, which we do not want.\n",
    "                row_result[\"released\"] = find_text_only(value_cell)\n",
    "            elif label == \"Length\":\n",
    "                # Most song lengths are strings with format \"min:sec\". One might\n",
    "                # be tempted to parse this string here to store the song length\n",
    "                # as a number of seconds, but we choose not to do so: if\n",
    "                # necessary, we can still do this later.\n",
    "                row_result[\"length\"] = value_cell.text\n",
    "            elif label == \"Songwriter(s)\":\n",
    "                # There may be more than 1 songwriter. For most songs,\n",
    "                # each songwriter is inside a separate <li> tag within\n",
    "                # an <ul> tag. But some songs have a single songwriter \n",
    "                # directly in the cell, without containing <ul> tag\n",
    "                writer_list = value_cell.ul\n",
    "                if writer_list is None:\n",
    "                    # Usually there's a single name here, but there's one\n",
    "                    # case with multiple names separated by commas.\n",
    "                    row_result[\"songwriters\"] = [ name.strip() for name in value_cell.text.split(\",\") ]\n",
    "                else:\n",
    "                    # We use all text inside the <li> tags. We believe \n",
    "                    # that in this case, this is more appropriate.\n",
    "                    # We do not want to ignore the text in descendant tags\n",
    "                    # because if we would do so, we would lose names \n",
    "                    # inside hyperlinks.\n",
    "                    row_result[\"songwriters\"] = [ name.text for name in writer_list.find_all(\"li\") ]"
   ]
  },
  {
   "cell_type": "code",
   "execution_count": 8,
   "metadata": {},
   "outputs": [
    {
     "name": "stdout",
     "output_type": "stream",
     "text": [
      "{'country': 'Ukraine', 'songname': 'Under the Ladder', 'link': 'https://en.wikipedia.org/wiki/Under_the_Ladder', 'points': 130, 'released': '18 January 2018', 'length': '2:59', 'songwriters': ['Mike Ryals', 'Kostyantyn Bocharov']}\n",
      "{'country': 'Spain', 'songname': 'Tu canción', 'link': 'https://en.wikipedia.org/wiki/Tu_canci%C3%B3n', 'points': 61}\n",
      "{'country': 'Slovenia', 'songname': 'Hvala, ne!', 'link': 'https://en.wikipedia.org/wiki/Hvala,_ne!', 'points': 64}\n",
      "{'country': 'Lithuania', 'songname': \"When We're Old\", 'link': 'https://en.wikipedia.org/wiki/When_We%27re_Old', 'points': 181, 'released': '13 February 2018', 'length': '2:59', 'songwriters': ['Vytautas Bikus']}\n",
      "{'country': 'Austria', 'songname': 'Nobody but You', 'link': 'https://en.wikipedia.org/wiki/Nobody_but_You_(Ces%C3%A1r_Sampson_song)', 'points': 342, 'released': '9\\xa0March\\xa02018', 'length': '3:03', 'songwriters': ['Cesár Sampson', 'Boris Milanov', 'Sebastian Arman', 'Joacim Persson', 'Johan Alkenäs']}\n",
      "{'country': 'Estonia', 'songname': 'La forza', 'link': 'https://en.wikipedia.org/wiki/La_forza_(song)', 'points': 245, 'released': '22 January 2018', 'length': '3:04', 'songwriters': ['Ksenia Kuchukova', 'Mihkel Mattisen', 'Elina Nechayeva', 'Timo Vendt']}\n",
      "{'country': 'Norway', 'songname': \"That's How You Write a Song\", 'link': 'https://en.wikipedia.org/wiki/That%27s_How_You_Write_a_Song', 'points': 144, 'released': '15 January 2018', 'length': '3:00', 'songwriters': ['Alexander Rybak']}\n",
      "{'country': 'Portugal', 'songname': 'O jardim', 'link': 'https://en.wikipedia.org/wiki/O_jardim', 'points': 39}\n",
      "{'country': 'United Kingdom', 'songname': 'Storm', 'link': 'https://en.wikipedia.org/wiki/Storm_(SuRie_song)', 'points': 48}\n",
      "{'country': 'Serbia', 'songname': 'Nova deca', 'link': 'https://en.wikipedia.org/wiki/Nova_deca', 'points': 113, 'released': '11 April 2018', 'length': '3:09', 'songwriters': ['Sanja Ilić', 'Tanja Ilić', 'Danica Krstajić']}\n",
      "{'country': 'Germany', 'songname': 'You Let Me Walk Alone', 'link': 'https://en.wikipedia.org/wiki/You_Let_Me_Walk_Alone', 'points': 340, 'released': '20 February 2018', 'length': '2:57', 'songwriters': ['Michael Schulte', 'Thomas Stengaard', 'Nisse Ingwersen', 'Nina Müller']}\n",
      "{'country': 'Albania', 'songname': 'Mall', 'link': 'https://en.wikipedia.org/wiki/Mall_(song)', 'points': 184, 'released': '16 March 2018', 'length': '4:34 (master recording)3:00 (Eurovision version)', 'songwriters': ['Eugent Bushpepa']}\n",
      "{'country': 'France', 'songname': 'Mercy', 'link': 'https://en.wikipedia.org/wiki/Mercy_(Madame_Monsieur_song)', 'points': 173, 'released': '20 January 2018', 'length': '3:58', 'songwriters': ['Émilie Satt', 'Jean-Karl Lucas']}\n",
      "{'country': 'Czech Republic', 'songname': 'Lie to Me', 'link': 'https://en.wikipedia.org/wiki/Lie_to_Me_(Mikolas_Josef_song)', 'points': 281, 'released': '19 November 2017', 'length': '2:50', 'songwriters': ['Mikolas Josef']}\n",
      "{'country': 'Denmark', 'songname': 'Higher Ground', 'link': 'https://en.wikipedia.org/wiki/Higher_Ground_(Rasmussen_song)', 'points': 226, 'released': '11 February 2018', 'length': '3:03', 'songwriters': ['Niclas Arn', 'Karl Eurén']}\n",
      "{'country': 'Australia', 'songname': 'We Got Love', 'link': 'https://en.wikipedia.org/wiki/We_Got_Love_(Jessica_Mauboy_song)', 'points': 99}\n",
      "{'country': 'Finland', 'songname': 'Monsters', 'link': 'https://en.wikipedia.org/wiki/Monsters_(Saara_Aalto_song)', 'points': 46}\n",
      "{'country': 'Bulgaria', 'songname': 'Bones', 'link': 'https://en.wikipedia.org/wiki/Bones_(Equinox_song)', 'points': 166, 'released': '12 March 2018', 'length': '2:59', 'songwriters': ['Borislav Milanov', 'Trey Campbell', 'Joacim Persson', 'Dag Lundberg']}\n",
      "{'country': 'Moldova', 'songname': 'My Lucky Day', 'link': 'https://en.wikipedia.org/wiki/My_Lucky_Day_(DoReDoS_song)', 'points': 209, 'released': '23 March 2018', 'length': '3:03', 'songwriters': ['John Ballard']}\n",
      "{'country': 'Sweden', 'songname': 'Dance You Off', 'link': 'https://en.wikipedia.org/wiki/Dance_You_Off', 'points': 274, 'released': '2 March 2018', 'songwriters': ['MAG', 'Louis Schoorl', 'K Nita', 'Benjamin Ingrosso']}\n",
      "{'country': 'Hungary', 'songname': 'Viszlát nyár', 'link': 'https://en.wikipedia.org/wiki/Viszl%C3%A1t_ny%C3%A1r', 'points': 93}\n",
      "{'country': 'Israel', 'songname': 'Toy', 'link': 'https://en.wikipedia.org/wiki/Toy_(song)', 'points': 529, 'released': '11\\xa0March\\xa02018', 'length': '3:00', 'songwriters': ['Doron Medalie', 'Stav Beger', 'John Anthony White[fn 1]']}\n",
      "{'country': 'Netherlands', 'songname': \"Outlaw in 'Em\", 'link': 'https://en.wikipedia.org/wiki/Outlaw_in_%27Em', 'points': 121, 'released': '2 March 2018', 'length': '2:56', 'songwriters': ['Jim Beavers', 'Waylon', 'Ilya Toshinskiy']}\n",
      "{'country': 'Ireland', 'songname': 'Together', 'link': 'https://en.wikipedia.org/wiki/Together_(Ryan_O%27Shaughnessy_song)', 'points': 136, 'released': '9 March 2018', 'songwriters': [\"Ryan O'Shaughnessy\", 'Mark Caplice', 'Laura Elizabeth Hughes']}\n",
      "{'country': 'Cyprus', 'songname': 'Fuego', 'link': 'https://en.wikipedia.org/wiki/Fuego_(Eleni_Foureira_song)', 'points': 436, 'released': '9 March 2018', 'length': '3:03', 'songwriters': ['Alex Papaconstantinou', 'Geraldo Sandell', 'Viktor Svensson', 'Anderz Wrethov', 'Didrick']}\n",
      "{'country': 'Italy', 'songname': 'Non mi avete fatto niente', 'link': 'https://en.wikipedia.org/wiki/Non_mi_avete_fatto_niente', 'points': 308, 'released': '7 February 2018', 'length': '3:28', 'songwriters': ['Ermal Meta', 'Fabrizio Moro', 'Andrea Febo']}\n"
     ]
    }
   ],
   "source": [
    "for result in results:\n",
    "    print(result)"
   ]
  }
 ],
 "metadata": {
  "kernelspec": {
   "display_name": "Python 3",
   "language": "python",
   "name": "python3"
  },
  "language_info": {
   "codemirror_mode": {
    "name": "ipython",
    "version": 3
   },
   "file_extension": ".py",
   "mimetype": "text/x-python",
   "name": "python",
   "nbconvert_exporter": "python",
   "pygments_lexer": "ipython3",
   "version": "3.7.1"
  }
 },
 "nbformat": 4,
 "nbformat_minor": 2
}

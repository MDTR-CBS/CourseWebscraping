{
 "cells": [
  {
   "cell_type": "markdown",
   "metadata": {},
   "source": [
    "# Course on webscraping, morning part\n",
    "\n",
    "*By Olav ten Bosch and Dick Windmeijer*"
   ]
  },
  {
   "cell_type": "code",
   "execution_count": null,
   "metadata": {},
   "outputs": [],
   "source": [
    "# Imports:\n",
    "import requests                  # for issueing HTTP requests\n",
    "from bs4 import BeautifulSoup    # for parsing and navigating HTML results\n",
    "import time                      # for sleeping between multiple requests\n",
    "import re                        # for regular expressions"
   ]
  },
  {
   "cell_type": "markdown",
   "metadata": {},
   "source": [
    "#### Documentation:\n",
    "- [Requests.py](http://docs.python-requests.org)\n",
    "- [Beautifulsoup.py](https://www.crummy.com/software/BeautifulSoup/bs4/doc/)\n",
    "- [regular expressions](https://developers.google.com/edu/python/regular-expressions)"
   ]
  },
  {
   "cell_type": "code",
   "execution_count": null,
   "metadata": {},
   "outputs": [],
   "source": [
    "# Retrieving home page of Statistics Netherlands:\n",
    "r1 = requests.get('https://www.cbs.nl/en-gb')\n",
    "\n",
    "print(r1.status_code, r1.headers['content-type'], r1.encoding)\n",
    "#print(r1.headers)\n",
    "#print(r1.text)"
   ]
  },
  {
   "cell_type": "code",
   "execution_count": null,
   "metadata": {},
   "outputs": [],
   "source": [
    "# Retrieving home page of Statistics Netherlands with user-agent string:\n",
    "headers = {'user-agent': 'scrapingCourseBot'}\n",
    "r2 = requests.get('https://www.cbs.nl/en-gb', headers=headers)\n",
    "\n",
    "# Headers of the request:\n",
    "print(r2.request.headers)\n",
    "\n",
    "# Headers of the response:\n",
    "print(r2.headers)"
   ]
  },
  {
   "cell_type": "code",
   "execution_count": null,
   "metadata": {},
   "outputs": [],
   "source": [
    "# Issue a request with parameters:\n",
    "pars = {'products': 2, 'years': 2}\n",
    "r3 = requests.get('http://testing-ground.scraping.pro/table?', params=pars, headers=headers)        \n",
    "#print(r3.url)\n",
    "#print(r3.text)"
   ]
  },
  {
   "cell_type": "code",
   "execution_count": null,
   "metadata": {},
   "outputs": [],
   "source": [
    "# In a loop, always add some idle time (time.sleep) to not overload server:\n",
    "for products in range(1, 6):\n",
    "    for years in range(1, 6):\n",
    "        pars = {'products': products, 'years': years}\n",
    "        r4 = requests.get('http://testing-ground.scraping.pro/table?', params=pars, headers=headers)\n",
    "        print(r4.url, r4.status_code)\n",
    "        time.sleep(1)"
   ]
  },
  {
   "cell_type": "code",
   "execution_count": null,
   "metadata": {},
   "outputs": [],
   "source": [
    "# Use a regexp to retrieve title of main article:\n",
    "# The main article is in an h2:\n",
    "#  <h2 style=\"background-color:#0058b8;\" class=\"bottom\">TITLE</h2>\n",
    "match = re.search(r'<h2 style=\"background-color:#0058b8;\" class=\"bottom\">.*</h2>', r1.text)\n",
    "if match:\n",
    "    print(match.group())\n",
    "else:\n",
    "    print('not found')"
   ]
  },
  {
   "cell_type": "code",
   "execution_count": null,
   "metadata": {},
   "outputs": [],
   "source": [
    "# Using soup find to access parts of page:\n",
    "r4 = requests.get('https://www.cbs.nl/en-gb')\n",
    "soup = BeautifulSoup(r4.text, 'lxml')              # use lxml, is more relaxed in parsing \n",
    "print(soup.title.text)\n",
    "print(soup.find(\"h2\").text)"
   ]
  },
  {
   "cell_type": "code",
   "execution_count": null,
   "metadata": {},
   "outputs": [],
   "source": [
    "# Get the URLS to all news articles of CBS using soup.find:\n",
    "articles = soup.find_all(\"div\", class_='thumbnail')\n",
    "for article in articles:\n",
    "    link = article.find(\"a\")['href']\n",
    "    print(link)"
   ]
  },
  {
   "cell_type": "code",
   "execution_count": null,
   "metadata": {},
   "outputs": [],
   "source": [
    "headlines = soup.select(\"div.thumbnail h3\")\n",
    "\n",
    "print(headlines)"
   ]
  },
  {
   "cell_type": "code",
   "execution_count": null,
   "metadata": {},
   "outputs": [],
   "source": [
    "# Get all texts of news articles of CBS using soup.find_all CSS selector:\n",
    "articles = soup.find_all(\"div\", class_='thumbnail')\n",
    "links3 = []\n",
    "for article in articles:\n",
    "    links3.append(article.find(\"a\")['href'])\n",
    "\n",
    "for link in links3:\n",
    "    r = requests.get('https://www.cbs.nl'+link)\n",
    "    #print(r.url)\n",
    "    soup2 = BeautifulSoup(r.text, 'lxml')\n",
    "    leadtext = soup2.find('section', class_='leadtext')\n",
    "    if leadtext is None: continue\n",
    "    print(leadtext.text)\n",
    "    time.sleep(1) # in robots.txt CBS advises a delay of 1 second"
   ]
  },
  {
   "cell_type": "code",
   "execution_count": null,
   "metadata": {},
   "outputs": [],
   "source": []
  }
 ],
 "metadata": {
  "kernelspec": {
   "display_name": "Python 3",
   "language": "python",
   "name": "python3"
  },
  "language_info": {
   "codemirror_mode": {
    "name": "ipython",
    "version": 3
   },
   "file_extension": ".py",
   "mimetype": "text/x-python",
   "name": "python",
   "nbconvert_exporter": "python",
   "pygments_lexer": "ipython3",
   "version": "3.7.3"
  }
 },
 "nbformat": 4,
 "nbformat_minor": 2
}

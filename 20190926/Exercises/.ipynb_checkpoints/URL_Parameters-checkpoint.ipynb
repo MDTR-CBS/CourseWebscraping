{
 "cells": [
  {
   "cell_type": "markdown",
   "metadata": {},
   "source": [
    "## Exercise: URL parameters"
   ]
  },
  {
   "cell_type": "markdown",
   "metadata": {},
   "source": [
    "The URLS in the address bar are:\n",
    "    \n",
    "    http://testing-ground.scraping.pro/table?products=1&years=1&quarters=1\n",
    "    http://testing-ground.scraping.pro/table?products=4&years=3&quarters=2\n",
    "    http://testing-ground.scraping.pro/table?products=10&years=10&quarters=4\n",
    "        \n",
    "The URL for 50 products, 5 years and 2 quarters is:\n",
    "    \n",
    "    http://testing-ground.scraping.pro/table?products=50&years=5&quarters=2\n",
    "        \n",
    "The data is returned on the request:\n",
    "    \n",
    "    table?products=50&years=5&quarters=2\n",
    "\n",
    "The format is HTML, the data is contained in an HTML table.\n",
    "    "
   ]
  }
 ],
 "metadata": {
  "kernelspec": {
   "display_name": "Python 3",
   "language": "python",
   "name": "python3"
  },
  "language_info": {
   "codemirror_mode": {
    "name": "ipython",
    "version": 3
   },
   "file_extension": ".py",
   "mimetype": "text/x-python",
   "name": "python",
   "nbconvert_exporter": "python",
   "pygments_lexer": "ipython3",
   "version": "3.7.3"
  }
 },
 "nbformat": 4,
 "nbformat_minor": 2
}

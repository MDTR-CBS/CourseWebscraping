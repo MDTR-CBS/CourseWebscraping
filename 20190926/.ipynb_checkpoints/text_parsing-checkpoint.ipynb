{
 "cells": [
  {
   "cell_type": "markdown",
   "metadata": {},
   "source": [
    "## Text analysis"
   ]
  },
  {
   "cell_type": "markdown",
   "metadata": {},
   "source": [
    "### justext: extracts and classifies texts\n",
    "https://pypi.org/project/jusText/"
   ]
  },
  {
   "cell_type": "code",
   "execution_count": null,
   "metadata": {},
   "outputs": [],
   "source": [
    "# This needs to be done once only:\n",
    "# !pip install justext"
   ]
  },
  {
   "cell_type": "code",
   "execution_count": 1,
   "metadata": {},
   "outputs": [],
   "source": [
    "import requests\n",
    "import justext\n",
    "headers = {'user-agent': 'scrapingCourseBot'}"
   ]
  },
  {
   "cell_type": "code",
   "execution_count": 2,
   "metadata": {},
   "outputs": [],
   "source": [
    "www = 'https://www.cbs.nl'\n",
    "r = requests.get(f'{www}/en-gb/our-services/innovation', headers=headers)"
   ]
  },
  {
   "cell_type": "code",
   "execution_count": 3,
   "metadata": {},
   "outputs": [],
   "source": [
    "paragraphs_req = justext.justext(r.content, justext.get_stoplist(\"English\"))"
   ]
  },
  {
   "cell_type": "code",
   "execution_count": 4,
   "metadata": {},
   "outputs": [
    {
     "data": {
      "text/plain": [
       "['Search',\n",
       " 'Innovation',\n",
       " 'Welcome to Statistics Netherlands’ innovation portal. Here, we show you experimental products, for example from the Center for Big Data Statistics. Feedback in any form will help us improve on these. We like to do so together with innovative partners. Open Innovation is high on our agenda. The products displayed here may be seen as an invitation to enter into dialogue with Statistics Netherlands. They should serve as inspiration for our ambition to provide even better information in the right form, to the right people, at the right time.',\n",
       " 'Beta products in development',\n",
       " 'morelessBeta products in development',\n",
       " 'Share this page',\n",
       " 'Featured',\n",
       " 'CBS video',\n",
       " 'Information Dialogue',\n",
       " 'Newsletters']"
      ]
     },
     "execution_count": 4,
     "metadata": {},
     "output_type": "execute_result"
    }
   ],
   "source": [
    "[p.text for p in paragraphs_req if p.cf_class in ['short','good']]"
   ]
  },
  {
   "cell_type": "code",
   "execution_count": 6,
   "metadata": {},
   "outputs": [
    {
     "data": {
      "text/plain": [
       "['Skip to main content',\n",
       " 'Figures',\n",
       " 'Labour and income',\n",
       " 'Economy',\n",
       " 'Society',\n",
       " 'Regional',\n",
       " 'Corporate',\n",
       " 'Services',\n",
       " 'Blaise software',\n",
       " 'About us',\n",
       " 'Nederlands',\n",
       " 'Nederlands',\n",
       " 'Search',\n",
       " 'Innovation',\n",
       " 'Big Data',\n",
       " 'Sensor data improves flash estimate for inland shipping',\n",
       " 'Identifying population movements using anonymised telephone data',\n",
       " 'Dot maps',\n",
       " 'EU webshops',\n",
       " 'Heat maps with income level of men and women',\n",
       " 'How many people here?',\n",
       " 'Hay fever index',\n",
       " 'The Internet Economy',\n",
       " 'Are SMEs ready for big data?',\n",
       " 'Smart ways of monitoring solar power',\n",
       " 'Social tensions indicator: Gauging society',\n",
       " 'The information dialogue, direct answers to questions',\n",
       " 'Expansion of maritime statistics: sea routes and cargo',\n",
       " 'Use machine learning to estimate chance of moving',\n",
       " 'Traffic intensities on national roads',\n",
       " 'Pregnancy as an indicator of economic recessions?',\n",
       " 'Automatically detect solar panels with aerial photos',\n",
       " 'Open Data',\n",
       " 'Linked open data',\n",
       " 'StatMiner',\n",
       " 'Output',\n",
       " 'Happiness meter',\n",
       " 'Contact',\n",
       " 'Nederlands',\n",
       " 'Search',\n",
       " '© Hollandse Hoogte',\n",
       " 'Hay fever index',\n",
       " '03/05/2019 10:22',\n",
       " 'How busy is it in Amsterdam on King’s Day?',\n",
       " '03/05/2019 09:42',\n",
       " 'Using social media to measure intentions to move house',\n",
       " '13/03/2019 11:43',\n",
       " 'Social tensions indicator: Gauging society',\n",
       " '07/03/2019 16:39',\n",
       " 'Identifying population movements using anonymised telephone data',\n",
       " '27/02/2019 15:27',\n",
       " 'Automatically detect solar panels with aerial photos',\n",
       " '27/02/2019 11:42',\n",
       " 'Smart ways of monitoring solar power',\n",
       " '27/02/2019 08:59',\n",
       " 'Use machine learning to estimate chance of moving',\n",
       " '08/02/2019 08:07',\n",
       " 'The information dialogue, direct answers to questions',\n",
       " '07/02/2019 16:15',\n",
       " 'Innovation in small businesses',\n",
       " '27/08/2018 12:06',\n",
       " 'Towards motives behind mobility',\n",
       " '27/08/2018 12:02',\n",
       " 'Linked open data',\n",
       " '27/08/2018 11:56',\n",
       " 'Pregnancy as an indicator of economic recessions?',\n",
       " '01/08/2018 13:42',\n",
       " 'Sensor data improves flash estimate for inland shipping',\n",
       " '09/07/2018 10:08',\n",
       " 'Are SMEs ready for big data?',\n",
       " '31/05/2018 12:40',\n",
       " 'The Internet Economy',\n",
       " '31/05/2018 12:40',\n",
       " 'How many people here?',\n",
       " '31/05/2018 10:48',\n",
       " 'Heat maps with income level of men and women',\n",
       " '31/05/2018 10:47',\n",
       " 'Happiness Meter',\n",
       " '31/05/2018 10:47',\n",
       " 'Expansion of maritime statistics: sea routes and cargo',\n",
       " '06/10/2017 13:36',\n",
       " 'Over 1 billion euros spent in foreign EU webshops',\n",
       " '24/05/2017 12:34',\n",
       " 'CBS experimenting with dot maps',\n",
       " '05/04/2017 14:44',\n",
       " 'Social tension indicator based on social media',\n",
       " '31/03/2017 07:15',\n",
       " 'StatMiner',\n",
       " '11/10/2016 10:00',\n",
       " 'Traffic intensities on national roads',\n",
       " '11/10/2016 09:59',\n",
       " 'TwitterFacebookLinkedInMail this pagePrint',\n",
       " 'Use machine learning to estimate chance of moving',\n",
       " 'Services',\n",
       " 'Customised services & microdata',\n",
       " 'Center for Big Data Statistics',\n",
       " 'Innovation',\n",
       " 'Urban Data Centres',\n",
       " 'Methodology',\n",
       " 'Publications',\n",
       " 'Open Data',\n",
       " 'Calculation of rent increase',\n",
       " 'Figures/StatLine',\n",
       " 'Archive',\n",
       " 'Blaise software',\n",
       " 'Products',\n",
       " 'Pricing',\n",
       " 'Community',\n",
       " 'About us',\n",
       " 'Contact',\n",
       " 'Organisation',\n",
       " 'Press',\n",
       " 'Careers at CBS',\n",
       " 'Website',\n",
       " 'Sitemap',\n",
       " 'Follow us',\n",
       " 'Publication planning',\n",
       " 'Facebook',\n",
       " 'YouTube',\n",
       " 'Twitter',\n",
       " 'RSS feeds']"
      ]
     },
     "execution_count": 6,
     "metadata": {},
     "output_type": "execute_result"
    }
   ],
   "source": [
    "[p.text for p in paragraphs_req if p.cf_class in ['bad']]"
   ]
  },
  {
   "cell_type": "code",
   "execution_count": null,
   "metadata": {},
   "outputs": [],
   "source": [
    "[p.text for p in paragraphs_req if p.cf_class in ['near-good']]"
   ]
  },
  {
   "cell_type": "code",
   "execution_count": null,
   "metadata": {},
   "outputs": [],
   "source": [
    "[p.text for p in paragraphs_req]"
   ]
  }
 ],
 "metadata": {
  "kernelspec": {
   "display_name": "Python 3",
   "language": "python",
   "name": "python3"
  },
  "language_info": {
   "codemirror_mode": {
    "name": "ipython",
    "version": 3
   },
   "file_extension": ".py",
   "mimetype": "text/x-python",
   "name": "python",
   "nbconvert_exporter": "python",
   "pygments_lexer": "ipython3",
   "version": "3.7.3"
  }
 },
 "nbformat": 4,
 "nbformat_minor": 4
}

{
 "cells": [
  {
   "cell_type": "markdown",
   "metadata": {},
   "source": [
    "## Exercise: robots.txt"
   ]
  },
  {
   "cell_type": "markdown",
   "metadata": {},
   "source": [
    "Retrieve robots.txt in the browser via:\n",
    "https://www.gaspedaal.nl/robots.txt\n",
    "\n",
    "```\n",
    "User-agent: *\n",
    "Disallow: /zoeken\n",
    "Disallow: /searchbox\n",
    "Disallow: /redirect\n",
    "Disallow: /75037320\n",
    "Disallow: /importautos\n",
    "```\n",
    "\n",
    "Most of the search queries do not generate a URL containing `/zoeken` or `/searchbox` so most of the search queries are allowed. For example the query `https://www.gaspedaal.nl/peugeot/208?srt=df-a` gives all peugeot 208 cars. Check the URL for other type of queries to make sure it is allowed (see http://www.robotstxt.org/robotstxt.html)."
   ]
  },
  {
   "cell_type": "markdown",
   "metadata": {},
   "source": [
    "## Exercise 3.1: URL parameters"
   ]
  },
  {
   "cell_type": "markdown",
   "metadata": {},
   "source": [
    "The URLS in the address bar are:\n",
    "    \n",
    "    http://testing-ground.scraping.pro/table?products=1&years=1&quarters=1\n",
    "    http://testing-ground.scraping.pro/table?products=4&years=3&quarters=2\n",
    "    http://testing-ground.scraping.pro/table?products=10&years=10&quarters=4\n",
    "        \n",
    "The URL for 50 products, 5 years and 2 quarters is:\n",
    "    \n",
    "    http://testing-ground.scraping.pro/table?products=50&years=5&quarters=2\n",
    "        \n",
    "The data is returned on the request:\n",
    "    \n",
    "    table?products=50&years=5&quarters=2\n",
    "\n",
    "The format is HTML, the data is contained in an HTML table.\n",
    "    "
   ]
  },
  {
   "cell_type": "markdown",
   "metadata": {},
   "source": [
    "## Exercise 3.2: Where is the data?"
   ]
  },
  {
   "cell_type": "markdown",
   "metadata": {},
   "source": [
    "When clicking on the links, additional content is loaded into the web page.\n",
    "\n",
    "The first link loads data in XML\n",
    "\n",
    "The second link loads data in JSON\n",
    "\n",
    "The JSON response is shorter"
   ]
  }
 ],
 "metadata": {
  "kernelspec": {
   "display_name": "Python 3",
   "language": "python",
   "name": "python3"
  },
  "language_info": {
   "codemirror_mode": {
    "name": "ipython",
    "version": 3
   },
   "file_extension": ".py",
   "mimetype": "text/x-python",
   "name": "python",
   "nbconvert_exporter": "python",
   "pygments_lexer": "ipython3",
   "version": "3.7.3"
  }
 },
 "nbformat": 4,
 "nbformat_minor": 2
}

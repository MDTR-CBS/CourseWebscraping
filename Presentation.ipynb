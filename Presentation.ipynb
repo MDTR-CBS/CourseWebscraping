{
 "cells": [
  {
   "cell_type": "markdown",
   "metadata": {},
   "source": [
    "# Examples, course on webscraping\n",
    "\n",
    "-- * By Olav ten Bosch and Dick Windmeijer *"
   ]
  },
  {
   "cell_type": "markdown",
   "metadata": {},
   "source": [
    "#### Documentation: [Requests.py](http://docs.python-requests.org) [Beautifulsoup.py](https://www.crummy.com/software/BeautifulSoup/bs4/doc/) [regular expressions](https://developers.google.com/edu/python/regular-expressions)"
   ]
  },
  {
   "cell_type": "code",
   "execution_count": 4,
   "metadata": {},
   "outputs": [],
   "source": [
    "# Imports:\n",
    "import requests\n",
    "from bs4 import BeautifulSoup\n",
    "import re\n",
    "import time"
   ]
  },
  {
   "cell_type": "code",
   "execution_count": 9,
   "metadata": {},
   "outputs": [
    {
     "name": "stdout",
     "output_type": "stream",
     "text": [
      "200 text/html; charset=utf-8 utf-8\n"
     ]
    }
   ],
   "source": [
    "# Retrieving home page of Statistics Netherlands:\n",
    "r1 = requests.get('https://www.cbs.nl/en-gb')\n",
    "\n",
    "#print(r1.headers)\n",
    "print(r1.status_code, r1.headers['content-type'], r1.encoding)\n",
    "#print(r1.text)"
   ]
  },
  {
   "cell_type": "code",
   "execution_count": 25,
   "metadata": {},
   "outputs": [
    {
     "name": "stdout",
     "output_type": "stream",
     "text": [
      "{'user-agent': 'scrapingCourseBot', 'Accept-Encoding': 'gzip, deflate', 'Accept': '*/*', 'Connection': 'keep-alive'}\n",
      "{'Cache-Control': 'private', 'Content-Type': 'text/html; charset=utf-8', 'Content-Encoding': 'gzip', 'Vary': 'Accept-Encoding', 'Set-Cookie': 'website#lang=en-GB; path=/; secure, ASP.NET_SessionId=q3ezmiemgighgcyohnn3b3ns; path=/; secure; HttpOnly, SC_ANALYTICS_GLOBAL_COOKIE=17b032bc36134a3fa9c3e5b2dcf49cf8|False; expires=Sun, 11-Feb-2029 14:05:32 GMT; path=/; secure; HttpOnly', 'X-Frame-Options': 'SAMEORIGIN', 'Strict-Transport-Security': 'max-age=31536000', 'Access-Control-Allow-Origin': '*', 'Date': 'Mon, 11 Feb 2019 14:05:32 GMT', 'Content-Length': '13294'}\n"
     ]
    }
   ],
   "source": [
    "# Retrieving home page of Statistics Netherlands with user-agent string:\n",
    "headers = {'user-agent': 'scrapingCourseBot'}\n",
    "r2 = requests.get('https://www.cbs.nl/en-gb', headers=headers)\n",
    "\n",
    "# Headers of the request:\n",
    "print(r2.request.headers)\n",
    "# Headers of the response:\n",
    "print(r2.headers)\n",
    "#print(r2.status_code, r2.headers['content-type'], r2.encoding)\n",
    "#print(r2.text)"
   ]
  },
  {
   "cell_type": "code",
   "execution_count": 13,
   "metadata": {},
   "outputs": [
    {
     "name": "stdout",
     "output_type": "stream",
     "text": [
      "<h2 style=\"background-color:#0058b8;\" class=\"bottom\">Nearly 80 million air passengers in 2018</h2>\n"
     ]
    }
   ],
   "source": [
    "# Use a regexp to retrieve tile of main article:\n",
    "# The main article is in an h2:\n",
    "#  <h2 style=\"background-color:#0058b8;\" class=\"bottom\">TITLE</h2>\n",
    "match = re.search(r'<h2 style=\"background-color:#0058b8;\" class=\"bottom\">.*</h2>', r1.text)\n",
    "if match:\n",
    "    print(match.group())\n",
    "else:\n",
    "    print('not found')"
   ]
  },
  {
   "cell_type": "code",
   "execution_count": 23,
   "metadata": {},
   "outputs": [
    {
     "name": "stdout",
     "output_type": "stream",
     "text": [
      "http://testing-ground.scraping.pro/table?products=2&years=2\n"
     ]
    }
   ],
   "source": [
    "# Issue a request with parameters:\n",
    "pars = {'products': 2, 'years': 2}\n",
    "r3 = requests.get('http://testing-ground.scraping.pro/table?', params=pars)        \n",
    "print(r3.url)\n",
    "#print(r3.text)"
   ]
  },
  {
   "cell_type": "code",
   "execution_count": 24,
   "metadata": {},
   "outputs": [
    {
     "name": "stdout",
     "output_type": "stream",
     "text": [
      "CBS - Statistics Netherlands\n",
      "More asylum seekers in 2018\n"
     ]
    }
   ],
   "source": [
    "# Using soup to access parts of page:\n",
    "r4 = requests.get('https://www.cbs.nl/en-gb')\n",
    "soup = BeautifulSoup(r4.text, 'lxml')\n",
    "print(soup.title.text)\n",
    "print(soup.find(\"h2\").text)"
   ]
  },
  {
   "cell_type": "code",
   "execution_count": 48,
   "metadata": {},
   "outputs": [
    {
     "name": "stdout",
     "output_type": "stream",
     "text": [
      "/en-gb/dossier/brexit-monitor\n",
      "/en-gb/news/2019/05/dutch-manufacturers-less-positive\n",
      "/en-gb/news/2019/05/manufacturing-output-prices-almost-1-percent-up\n",
      "/en-gb/news/2019/05/rising-imports-and-exports-of-construction-services\n",
      "/en-gb/news/2019/04/eu-webshops-earn-over-400-million-in-the-netherlands\n",
      "/en-gb/news/2019/04/house-prices-over-8-percent-higher-in-december\n",
      "/en-gb/news/2019/04/brussels-sprouts-exports-hit-record-high\n",
      "/en-gb/news/2019/04/over-600-billion-kg-of-inbound-goods-in-2017\n",
      "/en-gb/news/2019/04/investments-up-in-november\n",
      "/en-gb/news/2019/04/household-consumption-2-percent-up-in-november\n",
      "/en-gb/news/2019/04/largest-drop-in-consumer-confidence-in-over-7-years\n",
      "/en-gb/news/2019/03/agricultural-export-value-over-90-bn-euros-in-2018\n"
     ]
    }
   ],
   "source": [
    "# Get the URLS to all news articles of CBS:\n",
    "articles = soup.find_all(\"div\", class_='thumbnail')\n",
    "for article in articles:\n",
    "    link = article.find(\"a\")['href']\n",
    "    print(link)"
   ]
  },
  {
   "cell_type": "code",
   "execution_count": 53,
   "metadata": {},
   "outputs": [
    {
     "name": "stdout",
     "output_type": "stream",
     "text": [
      "[<h3>Brexit Monitor</h3>, <h3>Dutch manufacturers less positive</h3>, <h3>Manufacturing output prices almost 1 percent up</h3>, <h3>Rising imports and exports of construction services</h3>, <h3>EU webshops earn over €400 million in the Netherlands</h3>, <h3>House prices over 8 percent higher in December</h3>, <h3>Brussels sprouts exports hit record high</h3>, <h3>Over 600 billion kg of inbound goods in 2017</h3>, <h3>Investments up in November</h3>, <h3>Household consumption 2 percent up in November</h3>, <h3>Largest drop in consumer confidence in over 7 years</h3>, <h3>Agricultural export value over 90 bn euros in 2018</h3>]\n"
     ]
    }
   ],
   "source": [
    "headlines = soup.select(\"div.thumbnail h3\")\n",
    "\n",
    "print(headlines)"
   ]
  },
  {
   "cell_type": "code",
   "execution_count": 60,
   "metadata": {},
   "outputs": [
    {
     "name": "stdout",
     "output_type": "stream",
     "text": [
      "\n",
      "                According to Statistics Netherlands (CBS), producer confidence among Dutch manufacturers has declined in January 2019. Confidence stands at 5.8 in January, down from 7.5 in December. Producers are mainly less positive about their future output.\n",
      "            \n",
      "\n",
      "                Statistics Netherlands (CBS) reports that prices of Dutch-manufactured products were 0.6 percent up in December 2018 year-on-year. The price increase was smaller than in the previous month, when prices in manufacturing were up by 2.7 percent.\n",
      "            \n",
      "\n",
      "                In the first three quarters of 2018, Dutch companies had transactions with foreign companies in construction and dredging services to a total amount of 4.3 billion euros, the highest amount ever recorded over three consecutive quarters. Statistics Netherlands (CBS) reports this on the basis of the latest figures on international service trade.\n",
      "            \n",
      "\n",
      "                In Q3 2018, Dutch consumers purchased approximately 406 million euros (excl. VAT) worth of products from foreign EU webshops. This represents a 14-percent increase relative to Q3 2017. Online sales by Dutch retailers were nearly 18 percent up in this period. Statistics Netherlands (CBS) reports this on the basis of ongoing research.\n",
      "            \n",
      "\n",
      "                In December 2018, prices of owner-occupied dwellings (excluding new constructions) were on average 8.4 percent higher than in the same month in 2017. The price increase in October and November 2018 stood at 9.0 and 9.5 percent respectively. This is evident from price monitoring of existing owner-occupied dwellings by Statistics Netherlands (CBS) and The Netherlands’ Cadastre, Land Registry and Mapping Agency.\n",
      "            \n",
      "\n",
      "                Exports of traditional Dutch winter vegetables have grown in recent years, of Brussels sprouts in particular. In 2017, the export value of Brussels sprouts was 66 million euros, up from 32 million euros in 2008. Brussels sprouts have become more popular abroad, most notably in Germany, the United States and Italy. Sprouts the most cultivated winter vegetable crop in the Netherlands after carrots. This is shown by provisional results from the 2018 Agricultural Census, conducted by Statistics Netherlands (CBS).\n",
      "            \n",
      "\n",
      "                In 2017, the total volume of goods entering the Netherlands as inbound shipments exceeded 600 billion kg in gross weight. It was the first time inbound transport exceeded 600 billion kg. The volume of Inbound goods transport grew by 2 percent relative to 2016. It was also the first time the gross weight of inbound goods exceeded the level recorded before the outbreak of the economic crisis in 2009. This is reported by Statistics Netherlands (CBS) based on new figures and research on the development of goods flows in the period 2007-2017.\n",
      "            \n",
      "\n",
      "                Statistics Netherlands (CBS) reports that the volume of investments in tangible fixed assets was 5.8 percent up in November 2018 relative to the same month one year previously. Investments in dwellings, buildings, passenger cars and machinery all saw a rising trend.\n",
      "            \n",
      "\n",
      "                According to figures released by Statistics Netherlands (CBS), Dutch household consumption was 2 percent up in November 2018 on November 2017. The growth rate was somewhat higher than in the previous month. In November 2018, consumers mainly spent more on durable goods.\n",
      "            \n",
      "\n",
      "                According to Statistics Netherlands (CBS), the mood among Dutch consumers in January 2019 is less positive for the sixth consecutive month. The consumer confidence indicator has dropped 8 points and stands at 1. Opinions of Dutch consumers on the economic climate are considerably less positive. Willingness to buy has also deteriorated.\n",
      "            \n",
      "\n",
      "                In 2018, agricultural goods exports from the Netherlands amounted to an estimated 90.3 billion euros, i.e. 0.2 percent up on the previous year. This is a lower increase than in previous years (over 6 percent in 2017 and over 4 percent in 2016), as reported by Statistics Netherlands (CBS) and Wageningen Economic Research on the basis of joint research carried out for the Ministry of Agriculture, Nature and Food Quality.\n",
      "            \n"
     ]
    }
   ],
   "source": [
    "# Get all texts of news articles of CBS:\n",
    "articles = soup.find_all(\"div\", class_='thumbnail')\n",
    "links3 = []\n",
    "for article in articles:\n",
    "    links3.append(article.find(\"a\")['href'])\n",
    "\n",
    "for link in links3:\n",
    "    r = requests.get('https://www.cbs.nl'+link)\n",
    "    #print(r.url)\n",
    "    soup2 = BeautifulSoup(r.text, 'lxml')\n",
    "    leadtext = soup2.find('section', class_='leadtext')\n",
    "    if leadtext is None: continue\n",
    "    print(leadtext.text)\n",
    "    time.sleep(1) # in robots.txt CBS advises a delay of 1 second"
   ]
  },
  {
   "cell_type": "code",
   "execution_count": null,
   "metadata": {},
   "outputs": [],
   "source": []
  }
 ],
 "metadata": {
  "kernelspec": {
   "display_name": "Python 3",
   "language": "python",
   "name": "python3"
  },
  "language_info": {
   "codemirror_mode": {
    "name": "ipython",
    "version": 3
   },
   "file_extension": ".py",
   "mimetype": "text/x-python",
   "name": "python",
   "nbconvert_exporter": "python",
   "pygments_lexer": "ipython3",
   "version": "3.7.1"
  }
 },
 "nbformat": 4,
 "nbformat_minor": 2
}

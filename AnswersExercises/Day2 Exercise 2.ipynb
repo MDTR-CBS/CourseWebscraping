{
 "cells": [
  {
   "cell_type": "markdown",
   "metadata": {},
   "source": [
    "## Exercise 2: price list"
   ]
  },
  {
   "cell_type": "markdown",
   "metadata": {},
   "source": [
    "For the Apple Macbook case 1:\n",
    "    \n",
    "The HTML tag containing the price is a span\n",
    "\n",
    "The HTML tag containing the name is a div\n",
    "\n",
    "The containing div has class prod2"
   ]
  },
  {
   "cell_type": "markdown",
   "metadata": {},
   "source": [
    "For the Apple Macbook case 2:\n",
    "    \n",
    "The HTML tag containing the price is a div\n",
    "\n",
    "The HTML tag containing the name is a div\n",
    "\n",
    "The containing div has class prod2"
   ]
  },
  {
   "cell_type": "markdown",
   "metadata": {},
   "source": [
    "Case 1 would be easier to scrape."
   ]
  },
  {
   "cell_type": "code",
   "execution_count": null,
   "metadata": {},
   "outputs": [],
   "source": [
    "# Imports:\n",
    "import requests\n",
    "from bs4 import BeautifulSoup\n",
    "import time                      # for sleeping between multiple requests\n",
    "import re                        # for regular expressions\n",
    "headers = {'user-agent': 'scrapingCourseBot'}"
   ]
  },
  {
   "cell_type": "code",
   "execution_count": null,
   "metadata": {},
   "outputs": [],
   "source": [
    "r = requests.get('http://testing-ground.scraping.pro/blocks', headers=headers)\n",
    "soup = BeautifulSoup(r.text, 'lxml')\n",
    "\n",
    "# Retrieve first item name:\n",
    "result = soup.find(\"div\", class_=\"name\").text\n",
    "print(result)"
   ]
  },
  {
   "cell_type": "code",
   "execution_count": null,
   "metadata": {},
   "outputs": [],
   "source": [
    "# Retrieve all item names: Note: we scrape both tables now:\n",
    "results = soup.find_all(\"div\", class_=\"name\")\n",
    "for res in results:\n",
    "    print(res.text)"
   ]
  }
 ],
 "metadata": {
  "kernelspec": {
   "display_name": "Python 3",
   "language": "python",
   "name": "python3"
  },
  "language_info": {
   "codemirror_mode": {
    "name": "ipython",
    "version": 3
   },
   "file_extension": ".py",
   "mimetype": "text/x-python",
   "name": "python",
   "nbconvert_exporter": "python",
   "pygments_lexer": "ipython3",
   "version": "3.7.1"
  }
 },
 "nbformat": 4,
 "nbformat_minor": 2
}

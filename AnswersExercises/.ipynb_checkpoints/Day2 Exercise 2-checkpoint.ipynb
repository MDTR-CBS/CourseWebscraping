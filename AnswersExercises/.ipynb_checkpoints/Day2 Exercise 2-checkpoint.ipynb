{
 "cells": [
  {
   "cell_type": "markdown",
   "metadata": {},
   "source": [
    "## Exercise 2: price list"
   ]
  },
  {
   "cell_type": "markdown",
   "metadata": {},
   "source": [
    "For the Apple Macbook case 1:\n",
    "    \n",
    "The HTML tag containing the price is a span\n",
    "\n",
    "The HTML tag containing the name is a div\n",
    "\n",
    "The containing div has class prod2"
   ]
  },
  {
   "cell_type": "markdown",
   "metadata": {},
   "source": [
    "For the Apple Macbook case 2:\n",
    "    \n",
    "The HTML tag containing the price is a div\n",
    "\n",
    "The HTML tag containing the name is a div\n",
    "\n",
    "The containing div has class prod2"
   ]
  },
  {
   "cell_type": "markdown",
   "metadata": {},
   "source": [
    "Case 1 would be easier to scrape."
   ]
  },
  {
   "cell_type": "code",
   "execution_count": 2,
   "metadata": {},
   "outputs": [],
   "source": [
    "# Imports:\n",
    "import requests\n",
    "from bs4 import BeautifulSoup\n",
    "import time                      # for sleeping between multiple requests\n",
    "import re                        # for regular expressions"
   ]
  },
  {
   "cell_type": "code",
   "execution_count": 32,
   "metadata": {},
   "outputs": [
    {
     "name": "stdout",
     "output_type": "stream",
     "text": [
      "Dell Latitude D610-1.73 Laptop Wireless Computer\n",
      "Dell Latitude D610-1.73 Laptop Wireless Computer\n",
      "Samsung Chromebook (Wi-Fi, 11.6-Inch)\n",
      "Apple MacBook Pro MD101LL/A 13.3-Inch Laptop (NEWEST VERSION)\n",
      "Acer Aspire AS5750Z-4835 15.6-Inch Laptop (Black)\n",
      "HP Pavilion g7-2010nr 17.3-Inch Laptop (Black)\n",
      "ASUS A53Z-AS61 15.6-Inch Laptop (Mocha)\n",
      "Dell Latitude D610-1.73 Laptop Wireless Computer\n",
      "Samsung Chromebook (Wi-Fi, 11.6-Inch)\n",
      "Apple MacBook Pro MD101LL/A 13.3-Inch Laptop (NEWEST VERSION)\n",
      "Acer Aspire AS5750Z-4835 15.6-Inch Laptop (Black)\n",
      "HP Pavilion g7-2010nr 17.3-Inch Laptop (Black)\n",
      "ASUS A53Z-AS61 15.6-Inch Laptop (Mocha)\n"
     ]
    }
   ],
   "source": [
    "r = requests.get('http://testing-ground.scraping.pro/blocks')\n",
    "soup = BeautifulSoup(r.text, 'lxml')\n",
    "\n",
    "# Retrieve first item name:\n",
    "result = soup.find(\"div\", class_=\"name\").text\n",
    "print(result)\n",
    "\n",
    "# Retrieve all item names: Note: we scrape two tables now:\n",
    "results = soup.find_all(\"div\", class_=\"name\")\n",
    "for res in results:\n",
    "    print(res.text)"
   ]
  }
 ],
 "metadata": {
  "kernelspec": {
   "display_name": "Python 3",
   "language": "python",
   "name": "python3"
  },
  "language_info": {
   "codemirror_mode": {
    "name": "ipython",
    "version": 3
   },
   "file_extension": ".py",
   "mimetype": "text/x-python",
   "name": "python",
   "nbconvert_exporter": "python",
   "pygments_lexer": "ipython3",
   "version": "3.7.1"
  }
 },
 "nbformat": 4,
 "nbformat_minor": 2
}

{
 "cells": [
  {
   "cell_type": "markdown",
   "metadata": {},
   "source": [
    "## Exercise 2.1: Innovation"
   ]
  },
  {
   "cell_type": "code",
   "execution_count": 1,
   "metadata": {},
   "outputs": [],
   "source": [
    "import requests\n",
    "from bs4 import BeautifulSoup\n",
    "import time"
   ]
  },
  {
   "cell_type": "markdown",
   "metadata": {},
   "source": [
    "- Using requests.py and beautifulsoup.py retrieve a list of **titles** of all **innovation articles** on this page and print them.\n"
   ]
  },
  {
   "cell_type": "code",
   "execution_count": 2,
   "metadata": {},
   "outputs": [],
   "source": [
    "www = 'https://www.cbs.nl'\n",
    "r = requests.get(f'{www}/en-gb/our-services/innovation')\n",
    "soup = BeautifulSoup(r.text,'lxml') #or html.parser, html5lib"
   ]
  },
  {
   "cell_type": "code",
   "execution_count": 4,
   "metadata": {},
   "outputs": [
    {
     "name": "stdout",
     "output_type": "stream",
     "text": [
      "Innovation in small businesses\n",
      "Towards motives behind mobility\n",
      "Linked open data\n",
      "Pregnancy as an indicator of economic recessions?\n",
      "Sensor data improves flash estimate for inland shipping\n",
      "Hay fever index\n",
      "Are SMEs ready for big data?\n",
      "The Internet Economy\n",
      "How many people here?\n",
      "Heat maps with income level of men and women\n",
      "Happiness Meter\n",
      "Expansion of maritime statistics: sea routes and cargo\n",
      "Expansion of maritime statistics: sea routes and cargo\n",
      "Over 1 billion euros spent in foreign EU webshops\n",
      "CBS experimenting with dot maps\n",
      "Social tension indicator based on social media\n",
      "StatMiner\n",
      "Traffic intensities on national roads\n"
     ]
    }
   ],
   "source": [
    "# solution 1: using native BeautifullSoup selector\n",
    "for i in soup.find_all('div', class_='caption'):\n",
    "    print(i.h3.text)"
   ]
  },
  {
   "cell_type": "code",
   "execution_count": 3,
   "metadata": {},
   "outputs": [
    {
     "name": "stdout",
     "output_type": "stream",
     "text": [
      "Innovation in small businesses\n",
      "Towards motives behind mobility\n",
      "Linked open data\n",
      "Pregnancy as an indicator of economic recessions?\n",
      "Sensor data improves flash estimate for inland shipping\n",
      "Hay fever index\n",
      "Are SMEs ready for big data?\n",
      "The Internet Economy\n",
      "How many people here?\n",
      "Heat maps with income level of men and women\n",
      "Happiness Meter\n",
      "Expansion of maritime statistics: sea routes and cargo\n",
      "Expansion of maritime statistics: sea routes and cargo\n",
      "Over 1 billion euros spent in foreign EU webshops\n",
      "CBS experimenting with dot maps\n",
      "Social tension indicator based on social media\n",
      "StatMiner\n",
      "Traffic intensities on national roads\n",
      "Towards motives behind mobility\n",
      "Introducing CBDS\n"
     ]
    }
   ],
   "source": [
    "# solution 1: using native BeautifullSoup selector\n",
    "for i in soup.find_all('h3'):\n",
    "    print(i.text)"
   ]
  },
  {
   "cell_type": "code",
   "execution_count": 5,
   "metadata": {},
   "outputs": [
    {
     "name": "stdout",
     "output_type": "stream",
     "text": [
      "Innovation in small businesses\n",
      "Towards motives behind mobility\n",
      "Linked open data\n",
      "Pregnancy as an indicator of economic recessions?\n",
      "Sensor data improves flash estimate for inland shipping\n",
      "Hay fever index\n",
      "Are SMEs ready for big data?\n",
      "The Internet Economy\n",
      "How many people here?\n",
      "Heat maps with income level of men and women\n",
      "Happiness Meter\n",
      "Expansion of maritime statistics: sea routes and cargo\n",
      "Expansion of maritime statistics: sea routes and cargo\n",
      "Over 1 billion euros spent in foreign EU webshops\n",
      "CBS experimenting with dot maps\n",
      "Social tension indicator based on social media\n",
      "StatMiner\n",
      "Traffic intensities on national roads\n"
     ]
    }
   ],
   "source": [
    "# solution 2: using a CSS selector\n",
    "for h3 in soup.select('section div div h3'):\n",
    "    print(h3.text)"
   ]
  },
  {
   "cell_type": "markdown",
   "metadata": {},
   "source": [
    "- For each innovation article retrieve the **first paragraph** and print it."
   ]
  },
  {
   "cell_type": "code",
   "execution_count": 6,
   "metadata": {
    "collapsed": true
   },
   "outputs": [
    {
     "name": "stdout",
     "output_type": "stream",
     "text": [
      "[<section>\r\n",
      "            How can we get a good idea of all the innovative businesses in the Netherlands? Statistics Netherlands (CBS) has researched this question at the Center for Big Data Statistics. CBS is currently only surveying companies that have more than ten employees about their level of innovation, an approach which by definition excludes a great many Dutch companies. To make it possible to collect information about the other businesses too, a big data method has been developed that analyses the text on a company’s website. This ‘web scraping’ method is mainly useful for identifying small innovative businesses, such as start-ups.<br/>\n",
      "<h2>Procedure</h2>\n",
      "The text on the website’s homepage is used to decide whether a business is or is not innovative. Punctuation marks and common general terms are removed from the text on each site, and the remaining words form the initial dataset for the development of an algorithm that can distinguish between innovative and non-innovative businesses. Because we know which of the businesses in the CBS innovation survey are innovative and which are not, we use the websites of these larger companies to train the algorithm. Ultimately, this produces a list of words that are important when classifying innovation, such as ‘technology’, ‘new product’, ‘innovation’ and ‘software’. The language in which the website is presented is another important indicator. A company whose website is in English is statistically more likely to be innovative than a business with a Dutch website. Some words actually indicate that a business is not innovative; these include ‘shop’, ‘transport’, restaurant’ and ‘service’. Of course this does not necessarily mean that a shop can never be innovative; the combination of the other words on the website is also relevant. The latest version of the algorithm has been shown to be able to identify the innovativeness of large companies’ websites with 93% accuracy. <br/>\n",
      "<h2>Findings</h2>\n",
      "<p>\n",
      "The next step was to select half a million companies with fewer than ten employees from CBS’ business register. The text of these companies’ websites was then collected and classified using the algorithm. We did not know in advance whether these businesses were innovative or not, but a prediction was made based on the algorithm’s results. A manual check of a large section of the results confirmed that the algorithm also works well on small companies’ websites. Its functionality was also checked against the Innovation Top 100 for small and medium-sized enterprises (SME) and using the websites of start-ups. In both cases, the algorithm proved to be able to accurately classify a very large number of businesses as innovative. The approach that had been developed worked especially well in relation to companies with a high level of technological innovation. Our initial findings indicate that more than a third of the 500,000 websites can be classified as innovative.<br/>\n",
      "<br/>\n",
      "The maps show information about more than half a million small businesses, displayed at the level of the province and the municipality. The businesses’ post codes were used to achieve this. The provinces with the most innovative businesses, both small and large, are Noord-Holland, Zuid-Holland and Noord-Brabant.</p>\n",
      "<p><img alt=\"Innovative business provinces\" class=\"img-responsive\" height=\"1400\" src=\"/-/media/_afbeeldingen/2018/31/small_innovative_businesses_prov.png?la=en-gb&amp;hash=0EA5E8F421A2B80741694D4AA3CA3B355438561E\" width=\"1200\"/></p>\n",
      "<p>However, especially in comparison with the larger companies, slightly more small innovative businesses were found in the other provinces. Good-quality data was previously lacking about this group. The new method that has been developed makes it possible to draw up more detailed maps, for instance at a municipal level, revealing the areas of the Netherlands with a relatively large number of small innovative businesses.</p>\n",
      "<p><img alt=\"Innovative businesses\" class=\"img-responsive\" height=\"1400\" src=\"/-/media/_afbeeldingen/2018/31/small_innovative_businesses_muni.png?la=en-gb&amp;h=1400&amp;w=1200&amp;hash=C6F24E8C59F47C7DBCF05F3A406A3F8936925B8A\" width=\"1200\"/></p>\n",
      "<p>These areas are mainly to be found in the large cities, particularly Amsterdam and Rotterdam, and in municipalities with universities and universities of applied sciences, especially technical universities. Please note that the maps show the absolute number of companies, and therefore do not indicate how many people are employed at these companies. In other words, a tiny innovative start-up with a single worker counts for the same as a company with nine employees. Neither does this study look at the amount of investment made in innovation. </p>\n",
      "<h2>Challenges</h2>\n",
      "The link between businesses and websites presents a challenge. To make a good analysis it is important to link the right company to the right website, which is not always easy, especially with small businesses. That is why the links are also checked using a method developed jointly by several statistical agencies in a large European Big Data project. In addition, not every website was shown to be active. These factors make it difficult to make an accurate estimate at this time of the absolute number of small innovative businesses in the Netherlands, and the amount of investment they attract. Further research will be done into these aspects in a follow-up study.<br/>\n",
      "<h2>Privacy</h2>\n",
      "CBS innovation survey data was used to develop the method, together with texts on websites and the associated post codes. The information used was then aggregated at a municipal and provincial level to prevent individual companies from being identified.<br/>\n",
      "<h2>Applications</h2>\n",
      "The classification of companies based on the text on their websites has been shown to work well for innovation. This makes it possible to draw up extremely detailed maps of areas that are home to small innovative businesses, which is of particular interest to municipalities and provinces. For large cities, it is even possible to make maps of a given post code area. The development of this approach means that it is now possible to find small innovative businesses, such as start-ups, and to follow them over time. This will help to establish the impact of incentive policies for innovation. The method is also likely to be used in other fields, such as identifying sustainable companies and family-run businesses. <br/>\n",
      "<h2>Feedback</h2>\n",
      "We look forward to hearing your views about this innovation and about its potential applications, and we are always open to ideas to help us further refine this web scraping method. Please send us your feedback using the form below.\r\n",
      "        </section>, <section class=\"col-lg-2 col-md-3 col-sm-3 col-xs-12 col-lg-pull-7 col-md-pull-6 col-sm-pull-9\">\n",
      "<aside class=\"article-image article-left hidden-xs\">\n",
      "<figure><img alt=\"\" class=\"img-responsive\" src=\"https://imagescbs.blob.core.windows.net/images/413053684d4548714e4c477352302f666d2f377133513d3d/720x480.jpg\" width=\"212\"/></figure>\n",
      "</aside><aside class=\"article-left\">\n",
      "<div class=\"aside-content\">\n",
      "<h2>Share this page</h2>\n",
      "<span class=\"icons\">\n",
      "<a aria-label=\"Twitter\" href=\"https://twitter.com/intent/tweet?url=https://www.cbs.nl/en-gb/our-services/innovation/project/innovation-in-small-businesses\" target=\"_blank\" title=\"Twitter\"><span class=\"fa fa-twitter\"> </span><span class=\"visually-hidden\">Twitter</span></a>\n",
      "<a aria-label=\"Facebook\" href=\"https://www.facebook.com/sharer/sharer.php?u=https://www.cbs.nl/en-gb/our-services/innovation/project/innovation-in-small-businesses\" target=\"_blank\" title=\"Facebook\"><span class=\"fa fa-facebook-square\"> </span><span class=\"visually-hidden\">Facebook</span></a>\n",
      "<a aria-label=\"LinkedIn\" href=\"https://www.linkedin.com/shareArticle?mini=true&amp;url=https://www.cbs.nl/en-gb/our-services/innovation/project/innovation-in-small-businesses&amp;title=&amp;summary=&amp;source=\" target=\"_blank\" title=\"LinkedIn\"><span class=\"fa fa-linkedin-square\"> </span><span class=\"visually-hidden\">LinkedIn</span></a>\n",
      "<a aria-label=\"Mail this page\" href=\"mailto:?&amp;subject=&amp;body=https://www.cbs.nl/en-gb/our-services/innovation/project/innovation-in-small-businesses\" title=\"Mail this page\"><span class=\"fa fa-envelope-o\"> </span><span class=\"visually-hidden\">Mail this page</span></a>\n",
      "<a aria-label=\"Print\" href=\"javascript:window.print()\" title=\"Print\"><span class=\"fa fa-print\"> </span><span class=\"visually-hidden\">Print</span></a>\n",
      "</span>\n",
      "</div>\n",
      "</aside>\n",
      "</section>, <section class=\"col-lg-3 col-md-3 col-sm-12 col-xs-12 sidebar-transparant sidebar-article\">\n",
      "</section>]\n",
      "How can we get a good idea of all the innovative businesses in the Netherlands? Statistics Netherlands (CBS) has researched this question at the Center for Big Data Statistics. CBS is currently only surveying companies that have more than ten employees about their level of innovation, an approach which by definition excludes a great many Dutch companies. To make it possible to collect information about the other businesses too, a big data method has been developed that analyses the\n"
     ]
    }
   ],
   "source": [
    "# First try your code for one article\n",
    "r = requests.get('https://www.cbs.nl/en-gb/our-services/innovation/project/innovation-in-small-businesses')\n",
    "s = BeautifulSoup(r.text, 'lxml')\n",
    "sel = s.select('section')\n",
    "print(sel)\n",
    "print(sel[0].text[:500].strip())"
   ]
  },
  {
   "cell_type": "code",
   "execution_count": 7,
   "metadata": {},
   "outputs": [
    {
     "name": "stdout",
     "output_type": "stream",
     "text": [
      "How can we get a good idea of all the innovative businesses in the Netherlands? Statistics Netherlands (CBS) has researched this question at the Center for Big Data Statistics. CBS is currently only surveying companies that have more than ten employees about their level of innovation, an approach which by definition excludes a great many Dutch companies. To make it possible to collect information about the other businesses too, a big data method has been developed that analyses the\n",
      "********************\n",
      "Statistics Netherlands  (SN) is studying new data sources and approaches to provide deeper insights into people moving from A to B. Policymakers are faced with increasing complex decisions regarding accessibility of services, air pollution, new mobility solutions and costs. As a result, information to support good decision making is in high demand. \n",
      "What is the plan?\n",
      "\n",
      "We use a stepwise approach in which new data sources and register based data sources are combined with survey data. Examples of\n",
      "********************\n",
      "Linked Open Data is a way to publish structured data in such a way that they can be interconnected. It is based on the foundations of the World Wide Web.\n",
      "CBS Linked Open Data is a new service to be offered in addition to the CBS Open Data portal.\n",
      "To gain experience and explore the possibilities offered by linked open data, CBS has made available the key figures on districts and neighbourhoods over 2016 in this format. This is a beta product for which CBS is collecting user feedback\n",
      "********************\n",
      "Statistics Netherlands (CBS) is studying the possibilities of improving statistics with innovative methodologies, such as big data sources. Research findings from the US  gave rise to the question whether changes in fertility could be an early indicator of changes in the business cycle.\n",
      "\n",
      "A recent report by the American National Bureau of Economic Research (NBER)<link NBER report> found that economic downturns were preceded by  a falling growth rate for the number of pregnancies. Such a link cou\n",
      "********************\n",
      "Statistics Netherlands (CBS) issues quarterly reports on the development of the Dutch economy. This is done on the basis of quarterly accounts. The quarterly accounts are part of the national accounts and provide a quantitative description of the economic process in the Netherlands and economic relations with foreign countries.\n",
      "The quarterly accounts measure the size of the economy based on gross domestic product (GDP). The initial calculation of the quarterly accounts – known as the flash esti\n",
      "********************\n",
      "Spring is coming to an end and summer is quickly approaching. Nature is blooming and there are plenty of grass pollen, too. People who suffer from hay fever sneeze, have blocked noses and itchy eyes as an allergic reaction to the pollen from trees and grasses which are released into the air.  As more and more people are suffering from allergies including hay fever, this is becoming a growing problem in society. More insight is needed.\n",
      "\n",
      "\n",
      "Existing sources such as the Hay Fever Radar and surveilla\n",
      "********************\n",
      "Recent explorative research conducted by Statistics Netherlands (CBS) shows that only a fraction of Dutch small and medium-sized enterprises (SMEs) is ready for the application of big data in their business processes. This research was commissioned by the Dutch ‘Platform for the Information Society’ (ECP) and the Dutch Ministry of Economic Affairs.\n",
      "CBS conducted this research in the context of the ministry’s Big Data Breakthrough project. Explorative in nature, it focused mainly on defining a s\n",
      "********************\n",
      "Statistics Netherlands (CBS) has undertaken a survey in cooperation with Google and Dataprovider to examine the impact of the internet economy. The key objective was to review the economic impact of the internet in the Netherlands by deploying big data. The study carried the following four sub-objectives:\n",
      "\n",
      "Create a definition of the internet economy,\n",
      "Demonstrate the importance and size of the internet economy in the Netherlands,\n",
      "Show the possibilities which are offered by big data during statis\n",
      "********************\n",
      "Statistics Netherlands (CBS) is constantly studying the usability of new data sources.  One such source are mobile phone cellular network data. These data can be used to produce estimates of the so-called daytime population, providing insight into the number of people located in a particular area at a particular time.\n",
      "\n",
      "CBS produces monthly population figures for the Netherlands in a regular publication. These are based on municipal population registers. Using the new data presented here, CBS c\n",
      "********************\n",
      "Statistics Netherlands (CBS) is studying new types of visualisations to present complex data at a glance. An example is the heat map, in which a value is represented by a progressively darker colour as it is more prevalent. In these heat maps, ‘Income according to age’, distinct differences are seen between men and women.\n",
      "The heat map is a point cloud representing all inhabitants of the Netherlands. In this case, patches with a certain colour intensity refer to people of the same age and with t\n",
      "********************\n",
      "Economic growth and material prosperity are often the key indicators of a country’s present situation. But economic progress is not always accompanied by social progress. There is  growing awareness that apart from gross domestic product (GDP), other indicators are just as relevant to describe where a country stands. More focus is thereby being shifted to the population’s wellbeing. During the past few years, Statistics Netherlands (CBS) has made major investments to develop better ways of mapp\n",
      "********************\n",
      "Each quarter, Statistics Netherlands (CBS) publishes data on goods that are loaded and unloaded at Dutch seaports. This information is provided to CBS by customs and by maritime data specialist Royal Dirkzwager. Furthermore, CBS conducts research on the usability of new methods based on these and new sources for further improvement of existing maritime statistics and the creation of new statistics. \n",
      "The first new application is based on customs data regarding containers. These containers enter\n",
      "********************\n",
      "Each quarter, Statistics Netherlands (CBS) publishes data on goods that are loaded and unloaded at Dutch seaports. This information is provided to CBS by customs and by maritime data specialist Royal Dirkzwager. Furthermore, CBS conducts research on the usability of new methods based on these and new sources for further improvement of existing maritime statistics and the creation of new statistics. \n",
      "The first new application is based on customs data regarding containers. These containers enter\n",
      "********************\n",
      "In 2016, Dutch consumers spent over 1 billion euros on products sold by foreign EU webshops. This represents an increase of 25 percent relative to 2015, as reported by Statistics Netherlands (CBS) on the basis of current big data research in cooperation with the University of Amsterdam and Leiden University.\n",
      " \n",
      "(English subtitles available)\n",
      "More than half of all online purchases were made at webshops located in Germany. Clothing and shoes were the main items purchased by consumers.\n",
      "\n",
      "These purcha\n",
      "********************\n",
      "Statistics Netherlands (CBS) is increasingly using statistics based on Big Data and therefore needs to experiment with innovative visualisation techniques which help present the jumble of data in a more orderly fashion. Among these new techniques is the dot map, displaying huge amounts of data all at once. With this particular type of map, users can obtain detailed information on municipalities and neighbourhoods at a glance. The map shown here as an example displays the number of residents in\n",
      "********************\n",
      "How can social media messages be used as a source for measuring sentiment in society? This has been studied by Statistics Netherlands (CBS) at the Center for Big Data Statistics, resulting in a first version of the social tension indicator. The indicator very specifically measures tensions or unrest within Dutch society, unlike more general measurements of positive or negative sentiments through social media. To define the indicator, qualitative research was conducted to compile a validated g\n",
      "********************\n"
     ]
    },
    {
     "name": "stdout",
     "output_type": "stream",
     "text": [
      "© Â© Helen King/Corbis\n",
      "Statistics Netherlands (CBS) presents large volumes of data to the public through StatLine and Open Data. Added up, the data covers  more than 1 billion items. They are used by a wide variety of users including policymakers, journalists, private citizens, business professionals and researchers. However, users do not always arrive at the information hidden behind these figures. The StatMiner project is intended for these users so they can find interesting facts and patter\n",
      "********************\n",
      "© Â© Helen King/Corbis \n",
      "Traffic intensities statistics form the first study by Statistics Netherlands (CBS) to be based completely on Big Data. Underlying these statistics are vehicle counts at over 20,000 fixed measuring locations on Dutch national roads outside built-up areas. \n",
      "At fixed locations, passing (Dutch and foreign) vehicles are counted electronically 365 days a year, 1,440 minutes a day. This data is stored in the National Data Warehouse for Traffic Information (NDW database). Vehi\n",
      "********************\n"
     ]
    }
   ],
   "source": [
    "# Then loop through all articles\n",
    "for a in soup.select('section div div a'):\n",
    "    art = a['href']\n",
    "    r = requests.get(f'{www}{art}')\n",
    "    s = BeautifulSoup(r.text, 'lxml')\n",
    "    sel = s.select('section')\n",
    "    print(sel[0].text[:500].strip())\n",
    "    print('********************')\n",
    "    time.sleep(1) # in robots.txt CBS advises a delay of 1 second"
   ]
  },
  {
   "cell_type": "markdown",
   "metadata": {},
   "source": [
    "- Option: retrieve all urls to images in all innovation articles and show them "
   ]
  },
  {
   "cell_type": "code",
   "execution_count": null,
   "metadata": {},
   "outputs": [],
   "source": []
  }
 ],
 "metadata": {
  "kernelspec": {
   "display_name": "Python 3",
   "language": "python",
   "name": "python3"
  },
  "language_info": {
   "codemirror_mode": {
    "name": "ipython",
    "version": 3
   },
   "file_extension": ".py",
   "mimetype": "text/x-python",
   "name": "python",
   "nbconvert_exporter": "python",
   "pygments_lexer": "ipython3",
   "version": "3.7.1"
  }
 },
 "nbformat": 4,
 "nbformat_minor": 2
}

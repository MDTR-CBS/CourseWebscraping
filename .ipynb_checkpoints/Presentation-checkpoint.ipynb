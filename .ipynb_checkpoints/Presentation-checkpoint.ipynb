{
 "cells": [
  {
   "cell_type": "markdown",
   "metadata": {},
   "source": [
    "# Examples, course on webscraping\n",
    "\n",
    "-- * By Olav ten Bosch and Dick Windmeijer *"
   ]
  },
  {
   "cell_type": "code",
   "execution_count": 4,
   "metadata": {},
   "outputs": [
    {
     "name": "stdout",
     "output_type": "stream",
     "text": [
      "200 text/html; charset=utf-8 utf-8\n"
     ]
    }
   ],
   "source": [
    "# Retrieving the English home page of Statistics Netherlands:\n",
    "import requests\n",
    "from bs4 import BeautifulSoup\n",
    "import re\n",
    "import time\n",
    "\n",
    "r1 = requests.get('https://www.cbs.nl/en-gb')\n",
    "\n",
    "print(r1.status_code, r1.headers['content-type'], r1.encoding)\n",
    "\n",
    "#print(r1.text)"
   ]
  },
  {
   "cell_type": "code",
   "execution_count": 5,
   "metadata": {},
   "outputs": [
    {
     "name": "stdout",
     "output_type": "stream",
     "text": [
      "<h2 style=\"background-color:#0058b8;\" class=\"bottom\">Nearly 80 million air passengers in 2018</h2>\n"
     ]
    }
   ],
   "source": [
    "# Use a regexp to retrieve tile of main article:\n",
    "# The main article is in an h2:\n",
    "#  <h2 style=\"background-color:#0058b8;\" class=\"bottom\">TITLE</h2>\n",
    "match = re.search(r'<h2 style=\"background-color:#0058b8;\" class=\"bottom\">.*</h2>', r1.text)\n",
    "if match:\n",
    "    print(match.group())\n",
    "else:\n",
    "    print('not found')"
   ]
  },
  {
   "cell_type": "code",
   "execution_count": 7,
   "metadata": {},
   "outputs": [
    {
     "name": "stdout",
     "output_type": "stream",
     "text": [
      "http://testing-ground.scraping.pro/table?products=2&years=2\n",
      "<!DOCTYPE html>\n",
      "<!--[if lt IE 7]>      <html class=\"no-js lt-ie9 lt-ie8 lt-ie7\"> <![endif]-->\n",
      "<!--[if IE 7]>         <html class=\"no-js lt-ie9 lt-ie8\"> <![endif]-->\n",
      "<!--[if IE 8]>         <html class=\"no-js lt-ie9\"> <![endif]-->\n",
      "<!--[if gt IE 8]><!--> <html class=\"no-js\"> <!--<![endif]-->\n",
      "    <head>\n",
      "        <meta charset=\"utf-8\">\n",
      "        <meta http-equiv=\"X-UA-Compatible\" content=\"IE=edge,chrome=1\">\n",
      "        <title>Web Scraper Testing Ground</title>\n",
      "        <meta name=\"description\" content=\"\">\n",
      "        <meta name=\"viewport\" content=\"width=device-width\">\n",
      "        <link rel=\"stylesheet\" href=\"/css/normalize.css\">\n",
      "        <link rel=\"stylesheet\" href=\"/css/main.css\">\n",
      "        <script src=\"/js/vendor/modernizr-2.6.1.min.js\"></script>\n",
      "        <script src=\"/js/vendor/jquery-1.9.1.min.js\"></script>\n",
      "        <script src=\"/js/vendor/jquery-ui-1.10.2.min.js\"></script>\n",
      "        <script src=\"/js/plugins.js\"></script>\n",
      "        <script src=\"/js/main.js\"></script>\n",
      "\n",
      "        <link rel=\"stylesheet\" href=\"/css/QapTcha.jquery.css\" />\n",
      "        <script src=\"/js/QapTcha.jquery.js\"></script>\n",
      "        \n",
      "        <link rel=\"stylesheet\" href=\"/fancy-captcha/captcha.css\" />\n",
      "        <script src=\"/fancy-captcha/jquery.captcha.js\"></script>\n",
      "\n",
      "    </head>\n",
      "    <body>\n",
      "\t\t<script type=\"text/javascript\">\n",
      "\t\t\n",
      "\t\t  var _gaq = _gaq || [];\n",
      "\t\t  _gaq.push(['_setAccount', 'UA-4436411-8']);\n",
      "\t\t  _gaq.push(['_setDomainName', 'extract-web-data.com']);\n",
      "\t\t  _gaq.push(['_trackPageview']);\n",
      "\t\t\n",
      "\t\t  (function() {\n",
      "\t\t    var ga = document.createElement('script'); ga.type = 'text/javascript'; ga.async = true;\n",
      "\t\t    ga.src = ('https:' == document.location.protocol ? 'https://ssl' : 'http://www') + '.google-analytics.com/ga.js';\n",
      "\t\t    var s = document.getElementsByTagName('script')[0]; s.parentNode.insertBefore(ga, s);\n",
      "\t\t  })();\n",
      "\t\t\n",
      "\t\t</script>\n",
      "        <!--[if lt IE 7]>\n",
      "            <p class=\"chromeframe\">You are using an outdated browser. <a href=\"http://browsehappy.com/\">Upgrade your browser today</a> or <a href=\"http://www.google.com/chromeframe/?redirect=true\">install Google Chrome Frame</a> to better experience this site.</p>\n",
      "        <![endif]-->\n",
      "        <div id=\"topbar\"></div>\n",
      "\t\t<a href=\"/\" style=\"text-decoration: none\">\n",
      "\t\t    <div id=\"title\">WEB SCRAPER TESTING GROUND</div>\n",
      "\t\t    <div id=\"logo\"></div>\n",
      "\t\t</a>\n",
      "\t\t<div id=\"content\"><h1>TABLE REPORT</h1>\n",
      "<div id=\"caseinfo\">Suppose you need to scrape a financial report organized as a table. This test checks the scraper's ability to:\n",
      "<ol>\n",
      "\t<li>Support tables with indefinite number of rows and columns</li>\n",
      "\t<li>Tolerate merged columns and rows</li>\n",
      "\t<li>Parse currency format</li>\n",
      "\t<li>Extract only a certain year</li>\n",
      "</ol>\n",
      "To change the table you may use the following parameters:\n",
      "<ul>\n",
      "\t<li><b>products</b> - number of product columns (from 1 to 50)</li>\n",
      "\t<li><b>years</b> - number of year sections in the report</li>\n",
      "\t<li><b>quarters</b> - number of quarters in the last year</li>\n",
      "</ul>\n",
      "There should be a one year section with a merged column (for Product 3), and if more than one year are shown, there should be one or more merged cells in some quarter rows (for Products 1 and 2). All merged cells in the report contain a hyphen only.\n",
      "<p>For testing, you may use the following sample links. The scraper should sufficiently scrape all data from the reports using the same project:\n",
      "<ul>\n",
      "<li><a href=\"/table?products=1&years=1&quarters=1\">1 product, 1 quarter</a></li>\n",
      "<li><a href=\"/table?products=4&years=3&quarters=2\">4 products, 2.5 years</a></li>\n",
      "<li><a href=\"/table?products=10&years=10&quarters=4\">10 products, 10 years</a></li>\n",
      "</ul>\n",
      "</p>\n",
      "</div>\n",
      "\n",
      "<div id=\"case_table\">\n",
      "<table cellpadding=\"5px\" cellspacing=\"5px\" border=\"1\">\n",
      "\t<thead>\n",
      "\t\t<tr>\n",
      "\t\t\t<th width=\"120px\" rowspan=\"2\">Quarter</th>\n",
      "\t\t\t<th colspan='2'>Product 1</th><th colspan='2'>Product 2</th>\t\t\t<th width=\"100px\" rowspan=\"2\">Total Amount</th>\n",
      "\t\t</tr>\n",
      "\t\t<tr>\n",
      "\t\t\t<th width=\"100px\">Items</th><th width=\"100px\">Amount</th><th width=\"100px\">Items</th><th width=\"100px\">Amount</th>\t\t</tr>\n",
      "\t</thead>\n",
      "\t<tbody>\n",
      "<tr><td colspan='6' align='center' style='font-weight: bold'><center>2000</center></td></tr><tr><td>Q1</td><td style='background:#FEE' colspan='2'><center>-</center></td><td>49</td><td>$9,746.10</td><td>$9,746.10</td></tr><tr><td>Q2</td><td>61</td><td>$12,132.90</td><td>68</td><td>$13,525.20</td><td>$25,658.10</td></tr><tr><td>Q3</td><td>75</td><td>$14,917.50</td><td>77</td><td>$15,315.30</td><td>$30,232.80</td></tr><tr><td>Q4</td><td>78</td><td>$15,514.20</td><td>76</td><td>$15,116.40</td><td>$30,630.60</td></tr><tr><td><b>Total for 2000</b></td><td colspan='5'><b>$138,832.20</b></td></tr><tr><td colspan='6' style='background:#EEE'></td></tr><tr><td colspan='6' align='center' style='font-weight: bold'><center>2001</center></td></tr><tr><td>Q1</td><td>70</td><td>$13,923.00</td><td>64</td><td>$12,729.60</td><td>$26,652.60</td></tr><tr><td>Q2</td><td>53</td><td>$10,541.70</td><td>43</td><td>$8,552.70</td><td>$19,094.40</td></tr><tr><td>Q3</td><td>28</td><td>$5,569.20</td><td>17</td><td>$3,381.30</td><td>$8,950.50</td></tr><tr><td>Q4</td><td>1</td><td>$198.90</td><td>12</td><td>$2,386.80</td><td>$2,585.70</td></tr><tr><td><b>Total for 2001</b></td><td colspan='5'><b>$87,516.00</b></td></tr><tr><td colspan='6' style='background:#EEE'></td></tr>\t</tbody>\n",
      "</table>\n",
      "<br/><br/><br/>\n",
      "</div>\n",
      "\n",
      "\t\t</div>\n",
      "    </body>\n",
      "</html>\n"
     ]
    }
   ],
   "source": [
    "# Issue an request with parameters:\n",
    "\n",
    "pars = {'products': 2, 'years': 2}\n",
    "r2 = requests.get('http://testing-ground.scraping.pro/table?', params=pars)\n",
    "        \n",
    "print(r2.url)\n",
    "\n",
    "print(r2.text)"
   ]
  },
  {
   "cell_type": "code",
   "execution_count": 9,
   "metadata": {},
   "outputs": [
    {
     "name": "stdout",
     "output_type": "stream",
     "text": [
      "CBS - Statistics Netherlands\n"
     ]
    }
   ],
   "source": [
    "# Using soup to access parts of page:\n",
    "r3 = requests.get('https://www.cbs.nl/en-gb')\n",
    "soup3 = BeautifulSoup(r3.text, 'html.parser')\n",
    "print(soup3.title.text)"
   ]
  },
  {
   "cell_type": "code",
   "execution_count": 10,
   "metadata": {},
   "outputs": [
    {
     "name": "stdout",
     "output_type": "stream",
     "text": [
      "/en-gb/dossier/brexit-monitor\n",
      "/en-gb/news/2019/05/dutch-manufacturers-less-positive\n",
      "/en-gb/news/2019/05/manufacturing-output-prices-almost-1-percent-up\n",
      "/en-gb/news/2019/05/rising-imports-and-exports-of-construction-services\n",
      "/en-gb/news/2019/04/eu-webshops-earn-over-400-million-in-the-netherlands\n",
      "/en-gb/nieuws/2019/04/house-prices-over-8-percent-higher-in-december\n",
      "/en-gb/news/2019/04/brussels-sprouts-exports-hit-record-high\n",
      "/en-gb/news/2019/04/over-600-billion-kg-of-inbound-goods-in-2017\n",
      "/en-gb/news/2019/04/investments-up-in-november\n",
      "/en-gb/news/2019/04/household-consumption-2-percent-up-in-november\n",
      "/en-gb/news/2019/04/largest-drop-in-consumer-confidence-in-over-7-years\n",
      "/en-gb/news/2019/03/agricultural-export-value-over-90-bn-euros-in-2018\n"
     ]
    }
   ],
   "source": [
    "# Get the URLS to all news articles of CBS:\n",
    "articles = soup3.find_all(\"div\", class_='thumbnail')\n",
    "for article in articles:\n",
    "    link = article.find(\"a\")['href']\n",
    "    print(link)"
   ]
  },
  {
   "cell_type": "code",
   "execution_count": 11,
   "metadata": {},
   "outputs": [
    {
     "name": "stdout",
     "output_type": "stream",
     "text": [
      "[<h3>Brexit Monitor</h3>, <h3>Dutch manufacturers less positive</h3>, <h3>Manufacturing output prices almost 1 percent up</h3>, <h3>Rising imports and exports of construction services</h3>, <h3>EU webshops earn over €400 million in the Netherlands</h3>, <h3>House prices over 8 percent higher in December</h3>, <h3>Brussels sprouts exports hit record high</h3>, <h3>Over 600 billion kg of inbound goods in 2017</h3>, <h3>Investments up in November</h3>, <h3>Household consumption 2 percent up in November</h3>, <h3>Largest drop in consumer confidence in over 7 years</h3>, <h3>Agricultural export value over 90 bn euros in 2018</h3>]\n"
     ]
    }
   ],
   "source": [
    "headlines = soup3.select(\"div.thumbnail h3\")\n",
    "\n",
    "print(headlines)"
   ]
  },
  {
   "cell_type": "code",
   "execution_count": 12,
   "metadata": {},
   "outputs": [
    {
     "ename": "AttributeError",
     "evalue": "'NoneType' object has no attribute 'text'",
     "output_type": "error",
     "traceback": [
      "\u001b[1;31m---------------------------------------------------------------------------\u001b[0m",
      "\u001b[1;31mAttributeError\u001b[0m                            Traceback (most recent call last)",
      "\u001b[1;32m<ipython-input-12-9fc2cb4b7422>\u001b[0m in \u001b[0;36m<module>\u001b[1;34m\u001b[0m\n\u001b[0;32m      8\u001b[0m     \u001b[0mr\u001b[0m \u001b[1;33m=\u001b[0m \u001b[0mrequests\u001b[0m\u001b[1;33m.\u001b[0m\u001b[0mget\u001b[0m\u001b[1;33m(\u001b[0m\u001b[1;34m'https://www.cbs.nl'\u001b[0m\u001b[1;33m+\u001b[0m\u001b[0mlink\u001b[0m\u001b[1;33m)\u001b[0m\u001b[1;33m\u001b[0m\u001b[1;33m\u001b[0m\u001b[0m\n\u001b[0;32m      9\u001b[0m     \u001b[0msoup\u001b[0m \u001b[1;33m=\u001b[0m \u001b[0mBeautifulSoup\u001b[0m\u001b[1;33m(\u001b[0m\u001b[0mr\u001b[0m\u001b[1;33m.\u001b[0m\u001b[0mtext\u001b[0m\u001b[1;33m,\u001b[0m \u001b[1;34m'html.parser'\u001b[0m\u001b[1;33m)\u001b[0m\u001b[1;33m\u001b[0m\u001b[1;33m\u001b[0m\u001b[0m\n\u001b[1;32m---> 10\u001b[1;33m     \u001b[0mleadtext\u001b[0m \u001b[1;33m=\u001b[0m \u001b[0msoup\u001b[0m\u001b[1;33m.\u001b[0m\u001b[0mfind\u001b[0m\u001b[1;33m(\u001b[0m\u001b[1;34m'section'\u001b[0m\u001b[1;33m,\u001b[0m \u001b[0mclass_\u001b[0m\u001b[1;33m=\u001b[0m\u001b[1;34m'leadtext'\u001b[0m\u001b[1;33m)\u001b[0m\u001b[1;33m.\u001b[0m\u001b[0mtext\u001b[0m\u001b[1;33m\u001b[0m\u001b[1;33m\u001b[0m\u001b[0m\n\u001b[0m\u001b[0;32m     11\u001b[0m     \u001b[0mprint\u001b[0m\u001b[1;33m(\u001b[0m\u001b[0mleadtext\u001b[0m\u001b[1;33m)\u001b[0m\u001b[1;33m\u001b[0m\u001b[1;33m\u001b[0m\u001b[0m\n\u001b[0;32m     12\u001b[0m     \u001b[0mtime\u001b[0m\u001b[1;33m.\u001b[0m\u001b[0msleep\u001b[0m\u001b[1;33m(\u001b[0m\u001b[1;36m1\u001b[0m\u001b[1;33m)\u001b[0m \u001b[1;31m# in robots.txt CBS advises a delay of 1 second\u001b[0m\u001b[1;33m\u001b[0m\u001b[1;33m\u001b[0m\u001b[0m\n",
      "\u001b[1;31mAttributeError\u001b[0m: 'NoneType' object has no attribute 'text'"
     ]
    }
   ],
   "source": [
    "# Get all texts of news articles of CBS:\n",
    "articles = soup3.find_all(\"div\", class_='thumbnail')\n",
    "links3 = []\n",
    "for article in articles:\n",
    "    links3.append(article.find(\"a\")['href'])\n",
    "\n",
    "for link in links3:\n",
    "    r = requests.get('https://www.cbs.nl'+link)\n",
    "    soup = BeautifulSoup(r.text, 'html.parser')\n",
    "    leadtext = soup.find('section', class_='leadtext').text\n",
    "    print(leadtext)\n",
    "    time.sleep(1) # in robots.txt CBS advises a delay of 1 second"
   ]
  },
  {
   "cell_type": "code",
   "execution_count": null,
   "metadata": {},
   "outputs": [],
   "source": []
  }
 ],
 "metadata": {
  "kernelspec": {
   "display_name": "Python 3",
   "language": "python",
   "name": "python3"
  },
  "language_info": {
   "codemirror_mode": {
    "name": "ipython",
    "version": 3
   },
   "file_extension": ".py",
   "mimetype": "text/x-python",
   "name": "python",
   "nbconvert_exporter": "python",
   "pygments_lexer": "ipython3",
   "version": "3.7.1"
  }
 },
 "nbformat": 4,
 "nbformat_minor": 2
}

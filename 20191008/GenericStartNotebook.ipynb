{
 "cells": [
  {
   "cell_type": "markdown",
   "metadata": {},
   "source": [
    "# Generic startnotebook, course on webscraping\n",
    "\n",
    "*By Olav ten Bosch, Dick Windmeijer and Marijn Detiger*"
   ]
  },
  {
   "cell_type": "markdown",
   "metadata": {},
   "source": [
    "#### Documentation: [Requests.py](http://docs.python-requests.org) [Beautifulsoup.py](https://www.crummy.com/software/BeautifulSoup/bs4/doc/)\n",
    "\n"
   ]
  },
  {
   "cell_type": "code",
   "execution_count": 2,
   "metadata": {},
   "outputs": [],
   "source": [
    "# Imports:\n",
    "import requests\n",
    "from bs4 import BeautifulSoup\n",
    "import time                      # for sleeping between multiple requests\n",
    "\n",
    "#Issue a request:\n",
    "#r1 = requests.get('http://testing-ground.scraping.pro')\n",
    "#print(r1.status_code, r1.headers['content-type'], r1.encoding, r1.text)\n",
    "\n",
    "#Issue a request with dedicated user-agent string:\n",
    "#headers = {'user-agent': 'myOwnScraper'}\n",
    "#r = requests.get('http://testing-ground.scraping.pro', headers=headers)\n",
    "\n",
    "# Request with parameters:\n",
    "#pars = {'products': 2, 'years': 2}\n",
    "#r2 = requests.get('http://testing-ground.scraping.pro/table?', params=pars)   \n",
    "#print(r2.url)\n",
    "\n",
    "# Soup:\n",
    "#soup = BeautifulSoup(r2.text, 'lxml')\n",
    "#print(soup3.title.text)\n",
    "#soup.find_all(\"div\", class_=\"product\")\n",
    "\n",
    "\n",
    "# One second idle time between requests:\n",
    "#time.sleep(1)"
   ]
  }
 ],
 "metadata": {
  "kernelspec": {
   "display_name": "Python 3",
   "language": "python",
   "name": "python3"
  },
  "language_info": {
   "codemirror_mode": {
    "name": "ipython",
    "version": 3
   },
   "file_extension": ".py",
   "mimetype": "text/x-python",
   "name": "python",
   "nbconvert_exporter": "python",
   "pygments_lexer": "ipython3",
   "version": "3.7.3"
  }
 },
 "nbformat": 4,
 "nbformat_minor": 2
}
